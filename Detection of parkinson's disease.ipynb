{
 "cells": [
  {
   "cell_type": "code",
   "execution_count": 271,
   "id": "4ee4caed",
   "metadata": {},
   "outputs": [
    {
     "name": "stdout",
     "output_type": "stream",
     "text": [
      "               name  MDVP:Fo(Hz)  MDVP:Fhi(Hz)  MDVP:Flo(Hz)  MDVP:Jitter(%)  \\\n",
      "0    phon_R01_S01_1      119.992       157.302        74.997         0.00784   \n",
      "1    phon_R01_S01_2      122.400       148.650       113.819         0.00968   \n",
      "2    phon_R01_S01_3      116.682       131.111       111.555         0.01050   \n",
      "3    phon_R01_S01_4      116.676       137.871       111.366         0.00997   \n",
      "4    phon_R01_S01_5      116.014       141.781       110.655         0.01284   \n",
      "..              ...          ...           ...           ...             ...   \n",
      "190  phon_R01_S50_2      174.188       230.978        94.261         0.00459   \n",
      "191  phon_R01_S50_3      209.516       253.017        89.488         0.00564   \n",
      "192  phon_R01_S50_4      174.688       240.005        74.287         0.01360   \n",
      "193  phon_R01_S50_5      198.764       396.961        74.904         0.00740   \n",
      "194  phon_R01_S50_6      214.289       260.277        77.973         0.00567   \n",
      "\n",
      "     MDVP:Jitter(Abs)  MDVP:RAP  MDVP:PPQ  Jitter:DDP  MDVP:Shimmer  ...  \\\n",
      "0             0.00007   0.00370   0.00554     0.01109       0.04374  ...   \n",
      "1             0.00008   0.00465   0.00696     0.01394       0.06134  ...   \n",
      "2             0.00009   0.00544   0.00781     0.01633       0.05233  ...   \n",
      "3             0.00009   0.00502   0.00698     0.01505       0.05492  ...   \n",
      "4             0.00011   0.00655   0.00908     0.01966       0.06425  ...   \n",
      "..                ...       ...       ...         ...           ...  ...   \n",
      "190           0.00003   0.00263   0.00259     0.00790       0.04087  ...   \n",
      "191           0.00003   0.00331   0.00292     0.00994       0.02751  ...   \n",
      "192           0.00008   0.00624   0.00564     0.01873       0.02308  ...   \n",
      "193           0.00004   0.00370   0.00390     0.01109       0.02296  ...   \n",
      "194           0.00003   0.00295   0.00317     0.00885       0.01884  ...   \n",
      "\n",
      "     Shimmer:DDA      NHR     HNR  status      RPDE       DFA   spread1  \\\n",
      "0        0.06545  0.02211  21.033       1  0.414783  0.815285 -4.813031   \n",
      "1        0.09403  0.01929  19.085       1  0.458359  0.819521 -4.075192   \n",
      "2        0.08270  0.01309  20.651       1  0.429895  0.825288 -4.443179   \n",
      "3        0.08771  0.01353  20.644       1  0.434969  0.819235 -4.117501   \n",
      "4        0.10470  0.01767  19.649       1  0.417356  0.823484 -3.747787   \n",
      "..           ...      ...     ...     ...       ...       ...       ...   \n",
      "190      0.07008  0.02764  19.517       0  0.448439  0.657899 -6.538586   \n",
      "191      0.04812  0.01810  19.147       0  0.431674  0.683244 -6.195325   \n",
      "192      0.03804  0.10715  17.883       0  0.407567  0.655683 -6.787197   \n",
      "193      0.03794  0.07223  19.020       0  0.451221  0.643956 -6.744577   \n",
      "194      0.03078  0.04398  21.209       0  0.462803  0.664357 -5.724056   \n",
      "\n",
      "      spread2        D2       PPE  \n",
      "0    0.266482  2.301442  0.284654  \n",
      "1    0.335590  2.486855  0.368674  \n",
      "2    0.311173  2.342259  0.332634  \n",
      "3    0.334147  2.405554  0.368975  \n",
      "4    0.234513  2.332180  0.410335  \n",
      "..        ...       ...       ...  \n",
      "190  0.121952  2.657476  0.133050  \n",
      "191  0.129303  2.784312  0.168895  \n",
      "192  0.158453  2.679772  0.131728  \n",
      "193  0.207454  2.138608  0.123306  \n",
      "194  0.190667  2.555477  0.148569  \n",
      "\n",
      "[195 rows x 24 columns]\n"
     ]
    }
   ],
   "source": [
    "# importing all necessary libraries.\n",
    "import pandas as pd\n",
    "import numpy as np\n",
    "import matplotlib.pyplot as pyp\n",
    "import os\n",
    "import seaborn as sns\n",
    "\n",
    "os.chdir(\"C:\\\\Users\\\\khush\\\\OneDrive\\\\Documents\\\\\")\n",
    "readFile = pd.read_csv(\"p.data\")\n",
    "print(readFile)"
   ]
  },
  {
   "cell_type": "code",
   "execution_count": 272,
   "id": "1b822137",
   "metadata": {},
   "outputs": [
    {
     "data": {
      "text/plain": [
       "(195, 24)"
      ]
     },
     "metadata": {},
     "output_type": "display_data"
    }
   ],
   "source": [
    "# shape of readFile DataFrame.\n",
    "display(readFile.shape)"
   ]
  },
  {
   "cell_type": "code",
   "execution_count": 273,
   "id": "fe247e79",
   "metadata": {},
   "outputs": [
    {
     "data": {
      "text/plain": [
       "195"
      ]
     },
     "metadata": {},
     "output_type": "display_data"
    }
   ],
   "source": [
    "# total number of rows present in readFile dataFrame.\n",
    "display(len(readFile))"
   ]
  },
  {
   "cell_type": "code",
   "execution_count": 274,
   "id": "2e0561a4",
   "metadata": {},
   "outputs": [
    {
     "name": "stdout",
     "output_type": "stream",
     "text": [
      "name                 object\n",
      "MDVP:Fo(Hz)         float64\n",
      "MDVP:Fhi(Hz)        float64\n",
      "MDVP:Flo(Hz)        float64\n",
      "MDVP:Jitter(%)      float64\n",
      "MDVP:Jitter(Abs)    float64\n",
      "MDVP:RAP            float64\n",
      "MDVP:PPQ            float64\n",
      "Jitter:DDP          float64\n",
      "MDVP:Shimmer        float64\n",
      "MDVP:Shimmer(dB)    float64\n",
      "Shimmer:APQ3        float64\n",
      "Shimmer:APQ5        float64\n",
      "MDVP:APQ            float64\n",
      "Shimmer:DDA         float64\n",
      "NHR                 float64\n",
      "HNR                 float64\n",
      "status                int64\n",
      "RPDE                float64\n",
      "DFA                 float64\n",
      "spread1             float64\n",
      "spread2             float64\n",
      "D2                  float64\n",
      "PPE                 float64\n",
      "dtype: object\n"
     ]
    }
   ],
   "source": [
    "# data types of all column.\n",
    "print(readFile.dtypes)"
   ]
  },
  {
   "cell_type": "code",
   "execution_count": 275,
   "id": "d48264cf",
   "metadata": {},
   "outputs": [
    {
     "name": "stdout",
     "output_type": "stream",
     "text": [
      "<class 'pandas.core.frame.DataFrame'>\n",
      "RangeIndex: 195 entries, 0 to 194\n",
      "Data columns (total 24 columns):\n",
      " #   Column            Non-Null Count  Dtype  \n",
      "---  ------            --------------  -----  \n",
      " 0   name              195 non-null    object \n",
      " 1   MDVP:Fo(Hz)       195 non-null    float64\n",
      " 2   MDVP:Fhi(Hz)      195 non-null    float64\n",
      " 3   MDVP:Flo(Hz)      195 non-null    float64\n",
      " 4   MDVP:Jitter(%)    195 non-null    float64\n",
      " 5   MDVP:Jitter(Abs)  195 non-null    float64\n",
      " 6   MDVP:RAP          195 non-null    float64\n",
      " 7   MDVP:PPQ          195 non-null    float64\n",
      " 8   Jitter:DDP        195 non-null    float64\n",
      " 9   MDVP:Shimmer      195 non-null    float64\n",
      " 10  MDVP:Shimmer(dB)  195 non-null    float64\n",
      " 11  Shimmer:APQ3      195 non-null    float64\n",
      " 12  Shimmer:APQ5      195 non-null    float64\n",
      " 13  MDVP:APQ          195 non-null    float64\n",
      " 14  Shimmer:DDA       195 non-null    float64\n",
      " 15  NHR               195 non-null    float64\n",
      " 16  HNR               195 non-null    float64\n",
      " 17  status            195 non-null    int64  \n",
      " 18  RPDE              195 non-null    float64\n",
      " 19  DFA               195 non-null    float64\n",
      " 20  spread1           195 non-null    float64\n",
      " 21  spread2           195 non-null    float64\n",
      " 22  D2                195 non-null    float64\n",
      " 23  PPE               195 non-null    float64\n",
      "dtypes: float64(22), int64(1), object(1)\n",
      "memory usage: 36.7+ KB\n",
      "None\n"
     ]
    }
   ],
   "source": [
    "# checking the details.\n",
    "print(readFile.info())"
   ]
  },
  {
   "cell_type": "code",
   "execution_count": 276,
   "id": "cad71d53",
   "metadata": {},
   "outputs": [
    {
     "name": "stdout",
     "output_type": "stream",
     "text": [
      "       MDVP:Fo(Hz)  MDVP:Fhi(Hz)  MDVP:Flo(Hz)  MDVP:Jitter(%)  \\\n",
      "count   195.000000    195.000000    195.000000      195.000000   \n",
      "mean    154.228641    197.104918    116.324631        0.006220   \n",
      "std      41.390065     91.491548     43.521413        0.004848   \n",
      "min      88.333000    102.145000     65.476000        0.001680   \n",
      "25%     117.572000    134.862500     84.291000        0.003460   \n",
      "50%     148.790000    175.829000    104.315000        0.004940   \n",
      "75%     182.769000    224.205500    140.018500        0.007365   \n",
      "max     260.105000    592.030000    239.170000        0.033160   \n",
      "\n",
      "       MDVP:Jitter(Abs)    MDVP:RAP    MDVP:PPQ  Jitter:DDP  MDVP:Shimmer  \\\n",
      "count        195.000000  195.000000  195.000000  195.000000    195.000000   \n",
      "mean           0.000044    0.003306    0.003446    0.009920      0.029709   \n",
      "std            0.000035    0.002968    0.002759    0.008903      0.018857   \n",
      "min            0.000007    0.000680    0.000920    0.002040      0.009540   \n",
      "25%            0.000020    0.001660    0.001860    0.004985      0.016505   \n",
      "50%            0.000030    0.002500    0.002690    0.007490      0.022970   \n",
      "75%            0.000060    0.003835    0.003955    0.011505      0.037885   \n",
      "max            0.000260    0.021440    0.019580    0.064330      0.119080   \n",
      "\n",
      "       MDVP:Shimmer(dB)  ...  Shimmer:DDA         NHR         HNR      status  \\\n",
      "count        195.000000  ...   195.000000  195.000000  195.000000  195.000000   \n",
      "mean           0.282251  ...     0.046993    0.024847   21.885974    0.753846   \n",
      "std            0.194877  ...     0.030459    0.040418    4.425764    0.431878   \n",
      "min            0.085000  ...     0.013640    0.000650    8.441000    0.000000   \n",
      "25%            0.148500  ...     0.024735    0.005925   19.198000    1.000000   \n",
      "50%            0.221000  ...     0.038360    0.011660   22.085000    1.000000   \n",
      "75%            0.350000  ...     0.060795    0.025640   25.075500    1.000000   \n",
      "max            1.302000  ...     0.169420    0.314820   33.047000    1.000000   \n",
      "\n",
      "             RPDE         DFA     spread1     spread2          D2         PPE  \n",
      "count  195.000000  195.000000  195.000000  195.000000  195.000000  195.000000  \n",
      "mean     0.498536    0.718099   -5.684397    0.226510    2.381826    0.206552  \n",
      "std      0.103942    0.055336    1.090208    0.083406    0.382799    0.090119  \n",
      "min      0.256570    0.574282   -7.964984    0.006274    1.423287    0.044539  \n",
      "25%      0.421306    0.674758   -6.450096    0.174351    2.099125    0.137451  \n",
      "50%      0.495954    0.722254   -5.720868    0.218885    2.361532    0.194052  \n",
      "75%      0.587562    0.761881   -5.046192    0.279234    2.636456    0.252980  \n",
      "max      0.685151    0.825288   -2.434031    0.450493    3.671155    0.527367  \n",
      "\n",
      "[8 rows x 23 columns]\n"
     ]
    }
   ],
   "source": [
    "# describing the details.\n",
    "print(readFile.describe())"
   ]
  },
  {
   "cell_type": "code",
   "execution_count": 277,
   "id": "5709c8b7",
   "metadata": {},
   "outputs": [
    {
     "name": "stdout",
     "output_type": "stream",
     "text": [
      "name                0\n",
      "MDVP:Fo(Hz)         0\n",
      "MDVP:Fhi(Hz)        0\n",
      "MDVP:Flo(Hz)        0\n",
      "MDVP:Jitter(%)      0\n",
      "MDVP:Jitter(Abs)    0\n",
      "MDVP:RAP            0\n",
      "MDVP:PPQ            0\n",
      "Jitter:DDP          0\n",
      "MDVP:Shimmer        0\n",
      "MDVP:Shimmer(dB)    0\n",
      "Shimmer:APQ3        0\n",
      "Shimmer:APQ5        0\n",
      "MDVP:APQ            0\n",
      "Shimmer:DDA         0\n",
      "NHR                 0\n",
      "HNR                 0\n",
      "status              0\n",
      "RPDE                0\n",
      "DFA                 0\n",
      "spread1             0\n",
      "spread2             0\n",
      "D2                  0\n",
      "PPE                 0\n",
      "dtype: int64\n"
     ]
    }
   ],
   "source": [
    "# checking all null values.\n",
    "print(readFile.isna().sum())"
   ]
  },
  {
   "cell_type": "code",
   "execution_count": 278,
   "id": "54020df3",
   "metadata": {},
   "outputs": [
    {
     "name": "stdout",
     "output_type": "stream",
     "text": [
      "Index(['name', 'MDVP:Fo(Hz)', 'MDVP:Fhi(Hz)', 'MDVP:Flo(Hz)', 'MDVP:Jitter(%)',\n",
      "       'MDVP:Jitter(Abs)', 'MDVP:RAP', 'MDVP:PPQ', 'Jitter:DDP',\n",
      "       'MDVP:Shimmer', 'MDVP:Shimmer(dB)', 'Shimmer:APQ3', 'Shimmer:APQ5',\n",
      "       'MDVP:APQ', 'Shimmer:DDA', 'NHR', 'HNR', 'status', 'RPDE', 'DFA',\n",
      "       'spread1', 'spread2', 'D2', 'PPE'],\n",
      "      dtype='object')\n"
     ]
    }
   ],
   "source": [
    "# checking about names of columns.\n",
    "print(readFile.columns)"
   ]
  },
  {
   "cell_type": "code",
   "execution_count": 279,
   "id": "df9817db",
   "metadata": {},
   "outputs": [
    {
     "name": "stdout",
     "output_type": "stream",
     "text": [
      "0      1\n",
      "1      1\n",
      "2      1\n",
      "3      1\n",
      "4      1\n",
      "      ..\n",
      "190    0\n",
      "191    0\n",
      "192    0\n",
      "193    0\n",
      "194    0\n",
      "Name: status, Length: 195, dtype: int64\n"
     ]
    }
   ],
   "source": [
    "# displaying dependent varible(the variable on which we have to make predictions.)\n",
    "print(readFile[\"status\"])"
   ]
  },
  {
   "cell_type": "code",
   "execution_count": 280,
   "id": "a02fb6e2",
   "metadata": {},
   "outputs": [
    {
     "data": {
      "image/png": "[encoded data removed]",
      "text/plain": [
       "<Figure size 640x480 with 1 Axes>"
      ]
     },
     "metadata": {},
     "output_type": "display_data"
    }
   ],
   "source": [
    "# creating histogram with dependent variable.\n",
    "readFile.status.hist()\n",
    "pyp.xlabel(\"Status\")\n",
    "pyp.ylabel(\"Variable\")\n",
    "pyp.title(\"Parkinson's disease\")\n",
    "pyp.show()"
   ]
  },
  {
   "cell_type": "code",
   "execution_count": 281,
   "id": "72dcb9ec",
   "metadata": {},
   "outputs": [
    {
     "data": {
      "image/png": "[encoded data removed]",
      "text/plain": [
       "<Figure size 640x480 with 1 Axes>"
      ]
     },
     "metadata": {},
     "output_type": "display_data"
    }
   ],
   "source": [
    "# create bar graph where x-axis is status and y-axis is NHR.\n",
    "sns.barplot(x=\"status\",y=\"NHR\",data=readFile)\n",
    "pyp.show()"
   ]
  },
  {
   "cell_type": "code",
   "execution_count": 282,
   "id": "77fbd4c9",
   "metadata": {},
   "outputs": [
    {
     "data": {
      "image/png": "[encoded data removed]",
      "text/plain": [
       "<Figure size 640x480 with 1 Axes>"
      ]
     },
     "metadata": {},
     "output_type": "display_data"
    }
   ],
   "source": [
    "# create bar graph where x-axis is status and y-axis is HNR.\n",
    "sns.barplot(x=\"status\",y=\"HNR\",data=readFile)\n",
    "pyp.show()"
   ]
  },
  {
   "cell_type": "code",
   "execution_count": 283,
   "id": "1b43c24c",
   "metadata": {},
   "outputs": [
    {
     "data": {
      "image/png": "[encoded data removed]",
      "text/plain": [
       "<Figure size 640x480 with 1 Axes>"
      ]
     },
     "metadata": {},
     "output_type": "display_data"
    }
   ],
   "source": [
    "# create bar graph where x-axis is status and y-axis is RPDE.\n",
    "sns.barplot(x=\"status\",y=\"RPDE\",data=readFile)\n",
    "pyp.show()"
   ]
  },
  {
   "cell_type": "code",
   "execution_count": 284,
   "id": "09b9a6c9",
   "metadata": {},
   "outputs": [
    {
     "name": "stdout",
     "output_type": "stream",
     "text": [
      "     MDVP:Fo(Hz)  MDVP:Fhi(Hz)  MDVP:Flo(Hz)  MDVP:Jitter(%)  \\\n",
      "0        119.992       157.302        74.997         0.00784   \n",
      "1        122.400       148.650       113.819         0.00968   \n",
      "2        116.682       131.111       111.555         0.01050   \n",
      "3        116.676       137.871       111.366         0.00997   \n",
      "4        116.014       141.781       110.655         0.01284   \n",
      "..           ...           ...           ...             ...   \n",
      "190      174.188       230.978        94.261         0.00459   \n",
      "191      209.516       253.017        89.488         0.00564   \n",
      "192      174.688       240.005        74.287         0.01360   \n",
      "193      198.764       396.961        74.904         0.00740   \n",
      "194      214.289       260.277        77.973         0.00567   \n",
      "\n",
      "     MDVP:Jitter(Abs)  MDVP:RAP  MDVP:PPQ  Jitter:DDP  MDVP:Shimmer  \\\n",
      "0             0.00007   0.00370   0.00554     0.01109       0.04374   \n",
      "1             0.00008   0.00465   0.00696     0.01394       0.06134   \n",
      "2             0.00009   0.00544   0.00781     0.01633       0.05233   \n",
      "3             0.00009   0.00502   0.00698     0.01505       0.05492   \n",
      "4             0.00011   0.00655   0.00908     0.01966       0.06425   \n",
      "..                ...       ...       ...         ...           ...   \n",
      "190           0.00003   0.00263   0.00259     0.00790       0.04087   \n",
      "191           0.00003   0.00331   0.00292     0.00994       0.02751   \n",
      "192           0.00008   0.00624   0.00564     0.01873       0.02308   \n",
      "193           0.00004   0.00370   0.00390     0.01109       0.02296   \n",
      "194           0.00003   0.00295   0.00317     0.00885       0.01884   \n",
      "\n",
      "     MDVP:Shimmer(dB)  ...  Shimmer:DDA      NHR     HNR  status      RPDE  \\\n",
      "0               0.426  ...      0.06545  0.02211  21.033       1  0.414783   \n",
      "1               0.626  ...      0.09403  0.01929  19.085       1  0.458359   \n",
      "2               0.482  ...      0.08270  0.01309  20.651       1  0.429895   \n",
      "3               0.517  ...      0.08771  0.01353  20.644       1  0.434969   \n",
      "4               0.584  ...      0.10470  0.01767  19.649       1  0.417356   \n",
      "..                ...  ...          ...      ...     ...     ...       ...   \n",
      "190             0.405  ...      0.07008  0.02764  19.517       0  0.448439   \n",
      "191             0.263  ...      0.04812  0.01810  19.147       0  0.431674   \n",
      "192             0.256  ...      0.03804  0.10715  17.883       0  0.407567   \n",
      "193             0.241  ...      0.03794  0.07223  19.020       0  0.451221   \n",
      "194             0.190  ...      0.03078  0.04398  21.209       0  0.462803   \n",
      "\n",
      "          DFA   spread1   spread2        D2       PPE  \n",
      "0    0.815285 -4.813031  0.266482  2.301442  0.284654  \n",
      "1    0.819521 -4.075192  0.335590  2.486855  0.368674  \n",
      "2    0.825288 -4.443179  0.311173  2.342259  0.332634  \n",
      "3    0.819235 -4.117501  0.334147  2.405554  0.368975  \n",
      "4    0.823484 -3.747787  0.234513  2.332180  0.410335  \n",
      "..        ...       ...       ...       ...       ...  \n",
      "190  0.657899 -6.538586  0.121952  2.657476  0.133050  \n",
      "191  0.683244 -6.195325  0.129303  2.784312  0.168895  \n",
      "192  0.655683 -6.787197  0.158453  2.679772  0.131728  \n",
      "193  0.643956 -6.744577  0.207454  2.138608  0.123306  \n",
      "194  0.664357 -5.724056  0.190667  2.555477  0.148569  \n",
      "\n",
      "[195 rows x 23 columns]\n"
     ]
    }
   ],
   "source": [
    "#Droping name column.\n",
    "readFile.drop([\"name\"],axis=1,inplace=True)\n",
    "print(readFile)"
   ]
  },
  {
   "cell_type": "code",
   "execution_count": 285,
   "id": "46f8a5cc",
   "metadata": {},
   "outputs": [
    {
     "name": "stdout",
     "output_type": "stream",
     "text": [
      "                  MDVP:Fo(Hz)  MDVP:Fhi(Hz)  MDVP:Flo(Hz)  MDVP:Jitter(%)  \\\n",
      "MDVP:Fo(Hz)          1.000000      0.400985      0.596546       -0.118003   \n",
      "MDVP:Fhi(Hz)         0.400985      1.000000      0.084951        0.102086   \n",
      "MDVP:Flo(Hz)         0.596546      0.084951      1.000000       -0.139919   \n",
      "MDVP:Jitter(%)      -0.118003      0.102086     -0.139919        1.000000   \n",
      "MDVP:Jitter(Abs)    -0.382027     -0.029198     -0.277815        0.935714   \n",
      "MDVP:RAP            -0.076194      0.097177     -0.100519        0.990276   \n",
      "MDVP:PPQ            -0.112165      0.091126     -0.095828        0.974256   \n",
      "Jitter:DDP          -0.076213      0.097150     -0.100488        0.990276   \n",
      "MDVP:Shimmer        -0.098374      0.002281     -0.144543        0.769063   \n",
      "MDVP:Shimmer(dB)    -0.073742      0.043465     -0.119089        0.804289   \n",
      "Shimmer:APQ3        -0.094717     -0.003743     -0.150747        0.746625   \n",
      "Shimmer:APQ5        -0.070682     -0.009997     -0.101095        0.725561   \n",
      "MDVP:APQ            -0.077774      0.004937     -0.107293        0.758255   \n",
      "Shimmer:DDA         -0.094732     -0.003733     -0.150737        0.746635   \n",
      "NHR                 -0.021981      0.163766     -0.108670        0.906959   \n",
      "HNR                  0.059144     -0.024893      0.210851       -0.728165   \n",
      "status              -0.383535     -0.166136     -0.380200        0.278220   \n",
      "RPDE                -0.383894     -0.112404     -0.400143        0.360673   \n",
      "DFA                 -0.446013     -0.343097     -0.050406        0.098572   \n",
      "spread1             -0.413738     -0.076658     -0.394857        0.693577   \n",
      "spread2             -0.249450     -0.002954     -0.243829        0.385123   \n",
      "D2                   0.177980      0.176323     -0.100629        0.433434   \n",
      "PPE                 -0.372356     -0.069543     -0.340071        0.721543   \n",
      "\n",
      "                  MDVP:Jitter(Abs)  MDVP:RAP  MDVP:PPQ  Jitter:DDP  \\\n",
      "MDVP:Fo(Hz)              -0.382027 -0.076194 -0.112165   -0.076213   \n",
      "MDVP:Fhi(Hz)             -0.029198  0.097177  0.091126    0.097150   \n",
      "MDVP:Flo(Hz)             -0.277815 -0.100519 -0.095828   -0.100488   \n",
      "MDVP:Jitter(%)            0.935714  0.990276  0.974256    0.990276   \n",
      "MDVP:Jitter(Abs)          1.000000  0.922911  0.897778    0.922913   \n",
      "MDVP:RAP                  0.922911  1.000000  0.957317    1.000000   \n",
      "MDVP:PPQ                  0.897778  0.957317  1.000000    0.957319   \n",
      "Jitter:DDP                0.922913  1.000000  0.957319    1.000000   \n",
      "MDVP:Shimmer              0.703322  0.759581  0.797826    0.759555   \n",
      "MDVP:Shimmer(dB)          0.716601  0.790652  0.839239    0.790621   \n",
      "Shimmer:APQ3              0.697153  0.744912  0.763580    0.744894   \n",
      "Shimmer:APQ5              0.648961  0.709927  0.786780    0.709907   \n",
      "MDVP:APQ                  0.648793  0.737455  0.804139    0.737439   \n",
      "Shimmer:DDA               0.697170  0.744919  0.763592    0.744901   \n",
      "NHR                       0.834972  0.919521  0.844604    0.919548   \n",
      "HNR                      -0.656810 -0.721543 -0.731510   -0.721494   \n",
      "status                    0.338653  0.266668  0.288698    0.266646   \n",
      "RPDE                      0.441839  0.342140  0.333274    0.342079   \n",
      "DFA                       0.175036  0.064083  0.196301    0.064026   \n",
      "spread1                   0.735779  0.648328  0.716489    0.648328   \n",
      "spread2                   0.388543  0.324407  0.407605    0.324377   \n",
      "D2                        0.310694  0.426605  0.412524    0.426556   \n",
      "PPE                       0.748162  0.670999  0.769647    0.671005   \n",
      "\n",
      "                  MDVP:Shimmer  MDVP:Shimmer(dB)  ...  Shimmer:DDA       NHR  \\\n",
      "MDVP:Fo(Hz)          -0.098374         -0.073742  ...    -0.094732 -0.021981   \n",
      "MDVP:Fhi(Hz)          0.002281          0.043465  ...    -0.003733  0.163766   \n",
      "MDVP:Flo(Hz)         -0.144543         -0.119089  ...    -0.150737 -0.108670   \n",
      "MDVP:Jitter(%)        0.769063          0.804289  ...     0.746635  0.906959   \n",
      "MDVP:Jitter(Abs)      0.703322          0.716601  ...     0.697170  0.834972   \n",
      "MDVP:RAP              0.759581          0.790652  ...     0.744919  0.919521   \n",
      "MDVP:PPQ              0.797826          0.839239  ...     0.763592  0.844604   \n",
      "Jitter:DDP            0.759555          0.790621  ...     0.744901  0.919548   \n",
      "MDVP:Shimmer          1.000000          0.987258  ...     0.987626  0.722194   \n",
      "MDVP:Shimmer(dB)      0.987258          1.000000  ...     0.963202  0.744477   \n",
      "Shimmer:APQ3          0.987625          0.963198  ...     1.000000  0.716207   \n",
      "Shimmer:APQ5          0.982835          0.973751  ...     0.960072  0.658080   \n",
      "MDVP:APQ              0.950083          0.960977  ...     0.896647  0.694019   \n",
      "Shimmer:DDA           0.987626          0.963202  ...     1.000000  0.716215   \n",
      "NHR                   0.722194          0.744477  ...     0.716215  1.000000   \n",
      "HNR                  -0.835271         -0.827805  ...    -0.827130 -0.714072   \n",
      "status                0.367430          0.350697  ...     0.347608  0.189429   \n",
      "RPDE                  0.447424          0.410684  ...     0.435237  0.370890   \n",
      "DFA                   0.159954          0.165157  ...     0.151132 -0.131882   \n",
      "spread1               0.654734          0.652547  ...     0.610971  0.540865   \n",
      "spread2               0.452025          0.454314  ...     0.402223  0.318099   \n",
      "D2                    0.507088          0.512233  ...     0.467261  0.470949   \n",
      "PPE                   0.693771          0.695058  ...     0.645389  0.552591   \n",
      "\n",
      "                       HNR    status      RPDE       DFA   spread1   spread2  \\\n",
      "MDVP:Fo(Hz)       0.059144 -0.383535 -0.383894 -0.446013 -0.413738 -0.249450   \n",
      "MDVP:Fhi(Hz)     -0.024893 -0.166136 -0.112404 -0.343097 -0.076658 -0.002954   \n",
      "MDVP:Flo(Hz)      0.210851 -0.380200 -0.400143 -0.050406 -0.394857 -0.243829   \n",
      "MDVP:Jitter(%)   -0.728165  0.278220  0.360673  0.098572  0.693577  0.385123   \n",
      "MDVP:Jitter(Abs) -0.656810  0.338653  0.441839  0.175036  0.735779  0.388543   \n",
      "MDVP:RAP         -0.721543  0.266668  0.342140  0.064083  0.648328  0.324407   \n",
      "MDVP:PPQ         -0.731510  0.288698  0.333274  0.196301  0.716489  0.407605   \n",
      "Jitter:DDP       -0.721494  0.266646  0.342079  0.064026  0.648328  0.324377   \n",
      "MDVP:Shimmer     -0.835271  0.367430  0.447424  0.159954  0.654734  0.452025   \n",
      "MDVP:Shimmer(dB) -0.827805  0.350697  0.410684  0.165157  0.652547  0.454314   \n",
      "Shimmer:APQ3     -0.827123  0.347617  0.435242  0.151124  0.610967  0.402243   \n",
      "Shimmer:APQ5     -0.813753  0.351148  0.399903  0.213873  0.646809  0.457195   \n",
      "MDVP:APQ         -0.800407  0.364316  0.451379  0.157276  0.673158  0.502188   \n",
      "Shimmer:DDA      -0.827130  0.347608  0.435237  0.151132  0.610971  0.402223   \n",
      "NHR              -0.714072  0.189429  0.370890 -0.131882  0.540865  0.318099   \n",
      "HNR               1.000000 -0.361515 -0.598736 -0.008665 -0.673210 -0.431564   \n",
      "status           -0.361515  1.000000  0.308567  0.231739  0.564838  0.454842   \n",
      "RPDE             -0.598736  0.308567  1.000000 -0.110950  0.591117  0.479905   \n",
      "DFA              -0.008665  0.231739 -0.110950  1.000000  0.195668  0.166548   \n",
      "spread1          -0.673210  0.564838  0.591117  0.195668  1.000000  0.652358   \n",
      "spread2          -0.431564  0.454842  0.479905  0.166548  0.652358  1.000000   \n",
      "D2               -0.601401  0.340232  0.236931 -0.165381  0.495123  0.523532   \n",
      "PPE              -0.692876  0.531039  0.545886  0.270445  0.962435  0.644711   \n",
      "\n",
      "                        D2       PPE  \n",
      "MDVP:Fo(Hz)       0.177980 -0.372356  \n",
      "MDVP:Fhi(Hz)      0.176323 -0.069543  \n",
      "MDVP:Flo(Hz)     -0.100629 -0.340071  \n",
      "MDVP:Jitter(%)    0.433434  0.721543  \n",
      "MDVP:Jitter(Abs)  0.310694  0.748162  \n",
      "MDVP:RAP          0.426605  0.670999  \n",
      "MDVP:PPQ          0.412524  0.769647  \n",
      "Jitter:DDP        0.426556  0.671005  \n",
      "MDVP:Shimmer      0.507088  0.693771  \n",
      "MDVP:Shimmer(dB)  0.512233  0.695058  \n",
      "Shimmer:APQ3      0.467265  0.645377  \n",
      "Shimmer:APQ5      0.502174  0.702456  \n",
      "MDVP:APQ          0.536869  0.721694  \n",
      "Shimmer:DDA       0.467261  0.645389  \n",
      "NHR               0.470949  0.552591  \n",
      "HNR              -0.601401 -0.692876  \n",
      "status            0.340232  0.531039  \n",
      "RPDE              0.236931  0.545886  \n",
      "DFA              -0.165381  0.270445  \n",
      "spread1           0.495123  0.962435  \n",
      "spread2           0.523532  0.644711  \n",
      "D2                1.000000  0.480585  \n",
      "PPE               0.480585  1.000000  \n",
      "\n",
      "[23 rows x 23 columns]\n"
     ]
    }
   ],
   "source": [
    "from sklearn.metrics import confusion_matrix\n",
    "# Display correlation matrix.\n",
    "matrix = readFile.corr()\n",
    "print(matrix)"
   ]
  },
  {
   "cell_type": "code",
   "execution_count": 286,
   "id": "c28f3f02",
   "metadata": {},
   "outputs": [
    {
     "data": {
      "image/png": "[encoded data removed]",
      "text/plain": [
       "<Figure size 640x480 with 2 Axes>"
      ]
     },
     "metadata": {},
     "output_type": "display_data"
    }
   ],
   "source": [
    "from matplotlib.pylab import rcParams\n",
    "\n",
    "sns.heatmap(matrix,xticklabels=matrix.columns, yticklabels=matrix.columns,cmap='cubehelix',annot = True)\n",
    "pyp.show()\n",
    "\n"
   ]
  },
  {
   "cell_type": "code",
   "execution_count": 287,
   "id": "a1e0e4ea",
   "metadata": {},
   "outputs": [
    {
     "data": {
      "image/png": "[encoded data removed]",
      "text/plain": [
       "<Figure size 640x480 with 2 Axes>"
      ]
     },
     "metadata": {},
     "output_type": "display_data"
    }
   ],
   "source": [
    "sns.heatmap(matrix)#heatmap with default values.\n",
    "pyp.show()"
   ]
  },
  {
   "cell_type": "code",
   "execution_count": 288,
   "id": "9f6eb8f4",
   "metadata": {},
   "outputs": [
    {
     "name": "stdout",
     "output_type": "stream",
     "text": [
      "   MDVP:Fo(Hz)  MDVP:Fhi(Hz)  MDVP:Flo(Hz)  MDVP:Jitter(%)  MDVP:Jitter(Abs)  \\\n",
      "0      119.992       157.302        74.997         0.00784           0.00007   \n",
      "1      122.400       148.650       113.819         0.00968           0.00008   \n",
      "2      116.682       131.111       111.555         0.01050           0.00009   \n",
      "3      116.676       137.871       111.366         0.00997           0.00009   \n",
      "4      116.014       141.781       110.655         0.01284           0.00011   \n",
      "\n",
      "   MDVP:RAP  MDVP:PPQ  Jitter:DDP  MDVP:Shimmer  MDVP:Shimmer(dB)  ...  \\\n",
      "0   0.00370   0.00554     0.01109       0.04374             0.426  ...   \n",
      "1   0.00465   0.00696     0.01394       0.06134             0.626  ...   \n",
      "2   0.00544   0.00781     0.01633       0.05233             0.482  ...   \n",
      "3   0.00502   0.00698     0.01505       0.05492             0.517  ...   \n",
      "4   0.00655   0.00908     0.01966       0.06425             0.584  ...   \n",
      "\n",
      "   MDVP:APQ  Shimmer:DDA      NHR     HNR      RPDE       DFA   spread1  \\\n",
      "0   0.02971      0.06545  0.02211  21.033  0.414783  0.815285 -4.813031   \n",
      "1   0.04368      0.09403  0.01929  19.085  0.458359  0.819521 -4.075192   \n",
      "2   0.03590      0.08270  0.01309  20.651  0.429895  0.825288 -4.443179   \n",
      "3   0.03772      0.08771  0.01353  20.644  0.434969  0.819235 -4.117501   \n",
      "4   0.04465      0.10470  0.01767  19.649  0.417356  0.823484 -3.747787   \n",
      "\n",
      "    spread2        D2       PPE  \n",
      "0  0.266482  2.301442  0.284654  \n",
      "1  0.335590  2.486855  0.368674  \n",
      "2  0.311173  2.342259  0.332634  \n",
      "3  0.334147  2.405554  0.368975  \n",
      "4  0.234513  2.332180  0.410335  \n",
      "\n",
      "[5 rows x 22 columns]\n"
     ]
    }
   ],
   "source": [
    "# splitting dependent and independent variables.\n",
    "#x = readFile.iloc[:,] i will not use this method as it is difficult because status column is in between of independent variables.\n",
    "x=readFile.drop(labels=['status'],axis=1)\n",
    "print(x.head())#head will display top 5 columns\n"
   ]
  },
  {
   "cell_type": "code",
   "execution_count": 289,
   "id": "4cbe9c98",
   "metadata": {},
   "outputs": [
    {
     "data": {
      "text/plain": [
       "0    1\n",
       "1    1\n",
       "2    1\n",
       "3    1\n",
       "4    1\n",
       "Name: status, dtype: int64"
      ]
     },
     "metadata": {},
     "output_type": "display_data"
    }
   ],
   "source": [
    "y=readFile['status']\n",
    "display(y.head())\n"
   ]
  },
  {
   "cell_type": "code",
   "execution_count": 290,
   "id": "a284da2f",
   "metadata": {},
   "outputs": [
    {
     "name": "stdout",
     "output_type": "stream",
     "text": [
      "the shape(number of rows and columns in x) (195, 22)\n",
      "the shape(number of rows and columns in x_train data) (117, 22)\n",
      "the shape(number of rows and columns in x_test data) (78, 22)\n",
      "the shape(number of rows and columns in y) (195,)\n",
      "the shape(number of rows and columns in y_train) (117,)\n",
      "the shape(number of rows and columns in y_test) (78,)\n"
     ]
    }
   ],
   "source": [
    "# Splitting dataframe into two parts \"train\" and \"test\".\n",
    "from sklearn.model_selection import train_test_split\n",
    "x_train,x_test,y_train,y_test = train_test_split(x,y,test_size=0.4,random_state=0)#test_size means test data have 40% and \n",
    "#train data have 60%\n",
    "print(\"the shape(number of rows and columns in x)\",x.shape)\n",
    "print(\"the shape(number of rows and columns in x_train data)\",x_train.shape)\n",
    "print(\"the shape(number of rows and columns in x_test data)\",x_test.shape)\n",
    "print(\"the shape(number of rows and columns in y)\",y.shape)\n",
    "print(\"the shape(number of rows and columns in y_train)\",y_train.shape)\n",
    "print(\"the shape(number of rows and columns in y_test)\",y_test.shape)"
   ]
  },
  {
   "cell_type": "code",
   "execution_count": 291,
   "id": "3a98afc8",
   "metadata": {},
   "outputs": [
    {
     "name": "stdout",
     "output_type": "stream",
     "text": [
      "LogisticRegression()\n"
     ]
    },
    {
     "name": "stderr",
     "output_type": "stream",
     "text": [
      "C:\\Users\\khush\\anaconda3\\Lib\\site-packages\\sklearn\\linear_model\\_logistic.py:460: ConvergenceWarning: lbfgs failed to converge (status=1):\n",
      "STOP: TOTAL NO. of ITERATIONS REACHED LIMIT.\n",
      "\n",
      "Increase the number of iterations (max_iter) or scale the data as shown in:\n",
      "    https://scikit-learn.org/stable/modules/preprocessing.html\n",
      "Please also refer to the documentation for alternative solver options:\n",
      "    https://scikit-learn.org/stable/modules/linear_model.html#logistic-regression\n",
      "  n_iter_i = _check_optimize_result(\n"
     ]
    }
   ],
   "source": [
    "# train data is used for creating model while test is used for making predictions.\n",
    "# At first I will check with logistic regression model.\n",
    "# Creating logistic regression model.\n",
    "from sklearn.linear_model import LogisticRegression\n",
    "lr = LogisticRegression()\n",
    "lr.fit(x_train,y_train)\n",
    "print(lr)"
   ]
  },
  {
   "cell_type": "code",
   "execution_count": 292,
   "id": "da90d5e9",
   "metadata": {},
   "outputs": [
    {
     "name": "stdout",
     "output_type": "stream",
     "text": [
      "The prediction on x_train data\n",
      "[1 1 0 1 1 0 1 0 1 1 1 1 1 1 1 1 1 1 0 1 1 1 1 1 0 1 0 1 1 1 1 1 1 1 1 1 1\n",
      " 1 1 0 0 1 1 1 1 0 1 1 1 1 1 1 1 0 1 1 1 1 1 1 0 1 0 1 1 1 0 0 1 0 1 1 1 1\n",
      " 1 1 0 0 1 1 0 1 1 1 0 1 1 1 1 1 1 1 1 1 0 1 1 1 0 1 1 1 0 1 1 1 1 1 1 1 1\n",
      " 1 1 1 1 0 1]\n",
      "the accuracy for the prediction made on x_train data\n",
      "0.8461538461538461\n"
     ]
    }
   ],
   "source": [
    "#making prediction for train data.\n",
    "from sklearn.metrics import accuracy_score\n",
    "the_pred = lr.predict(x_train)\n",
    "print(\"The prediction on x_train data\")\n",
    "print(the_pred)\n",
    "print(\"the accuracy for the prediction made on x_train data\")\n",
    "acc = accuracy_score(y_train,the_pred)\n",
    "print(acc)"
   ]
  },
  {
   "cell_type": "code",
   "execution_count": 293,
   "id": "492ae33b",
   "metadata": {},
   "outputs": [
    {
     "name": "stdout",
     "output_type": "stream",
     "text": [
      "The prediction on x_test data\n",
      "[1 1 0 1 1 1 1 0 1 1 1 1 1 1 0 1 1 0 0 1 1 1 1 1 0 1 1 0 1 0 1 1 1 1 1 1 1\n",
      " 1 1 1 1 1 1 1 0 1 1 1 1 1 1 1 0 1 1 1 1 1 1 1 1 1 1 1 1 1 1 1 1 1 1 1 0 1\n",
      " 1 1 1 0]\n",
      "the accuracy for the prediction made on x_train data\n",
      "0.9102564102564102\n"
     ]
    }
   ],
   "source": [
    "# making prediction for test data.\n",
    "the_pred_1 = lr.predict(x_test)\n",
    "print(\"The prediction on x_test data\")\n",
    "print(the_pred_1)\n",
    "print(\"the accuracy for the prediction made on x_train data\")\n",
    "acc_1 = accuracy_score(y_test,the_pred_1)\n",
    "print(acc_1)"
   ]
  },
  {
   "cell_type": "code",
   "execution_count": 294,
   "id": "d6ac0922",
   "metadata": {},
   "outputs": [
    {
     "name": "stdout",
     "output_type": "stream",
     "text": [
      "confusion matrix for train data\n",
      "[[18 13]\n",
      " [ 5 81]]\n",
      "confusion matrix for test data\n",
      "[[11  6]\n",
      " [ 1 60]]\n"
     ]
    }
   ],
   "source": [
    "# now creating confusion matrix and classsification report.\n",
    "print(\"confusion matrix for train data\")\n",
    "con_matrix = confusion_matrix(y_train,the_pred)\n",
    "print(con_matrix)\n",
    "print(\"confusion matrix for test data\")\n",
    "con_matrix_1 = confusion_matrix(y_test,the_pred_1)\n",
    "print(con_matrix_1 )"
   ]
  },
  {
   "cell_type": "code",
   "execution_count": 295,
   "id": "fc282ebd",
   "metadata": {},
   "outputs": [
    {
     "name": "stdout",
     "output_type": "stream",
     "text": [
      "classification report on train data\n",
      "              precision    recall  f1-score   support\n",
      "\n",
      "           0       0.78      0.58      0.67        31\n",
      "           1       0.86      0.94      0.90        86\n",
      "\n",
      "    accuracy                           0.85       117\n",
      "   macro avg       0.82      0.76      0.78       117\n",
      "weighted avg       0.84      0.85      0.84       117\n",
      "\n",
      "classification report on test data\n",
      "              precision    recall  f1-score   support\n",
      "\n",
      "           0       0.92      0.65      0.76        17\n",
      "           1       0.91      0.98      0.94        61\n",
      "\n",
      "    accuracy                           0.91        78\n",
      "   macro avg       0.91      0.82      0.85        78\n",
      "weighted avg       0.91      0.91      0.90        78\n",
      "\n"
     ]
    }
   ],
   "source": [
    "from sklearn.metrics import  confusion_matrix, classification_report \n",
    "\n",
    "print(\"classification report on train data\")\n",
    "classi_report = classification_report(y_train,the_pred)\n",
    "print(classi_report)\n",
    "print(\"classification report on test data\")\n",
    "classi_report_1 = classification_report(y_test,the_pred_1)\n",
    "print(classi_report_1)"
   ]
  },
  {
   "cell_type": "code",
   "execution_count": 296,
   "id": "925d9a90",
   "metadata": {},
   "outputs": [
    {
     "name": "stdout",
     "output_type": "stream",
     "text": [
      "RandomForestClassifier()\n"
     ]
    }
   ],
   "source": [
    "#Random forest.\n",
    "from sklearn.ensemble import RandomForestClassifier\n",
    "rfc = RandomForestClassifier()\n",
    "rfc.fit(x_train,y_train)\n",
    "print(rfc)\n",
    "# Here i have created RandomForestClassifier model on x and y train data to make predictions dependent varibale y."
   ]
  },
  {
   "cell_type": "code",
   "execution_count": 297,
   "id": "1ab0ae6d",
   "metadata": {},
   "outputs": [
    {
     "name": "stdout",
     "output_type": "stream",
     "text": [
      "[0 0 0 1 1 1 1 0 1 1 1 0 1 1 1 1 1 1 0 0 1 1 1 1 0 1 1 1 0 0 1 1 1 1 1 1 1\n",
      " 1 1 1 0 1 1 1 1 0 1 1 1 1 1 1 1 0 1 1 0 1 1 1 0 1 0 1 1 1 0 1 1 0 1 1 1 0\n",
      " 1 1 0 1 1 1 0 1 1 0 0 1 0 1 1 1 1 1 1 1 0 1 1 1 0 1 0 0 0 1 1 1 1 1 1 1 1\n",
      " 1 1 1 1 0 0]\n"
     ]
    }
   ],
   "source": [
    "# making prediction on train data.\n",
    "y_pred_rfc = rfc.predict(x_train)\n",
    "print(y_pred_rfc)#this is prediction on status of diesase 0 repesents no and 1 says yes."
   ]
  },
  {
   "cell_type": "code",
   "execution_count": 298,
   "id": "b6422fd4",
   "metadata": {},
   "outputs": [
    {
     "name": "stdout",
     "output_type": "stream",
     "text": [
      "The accuracy on test data's predition is- 1.0\n"
     ]
    }
   ],
   "source": [
    "#checking the accuracy for prediction\n",
    "acc = accuracy_score(y_train,y_pred_rfc)\n",
    "print(\"The accuracy on test data's predition is-\",acc)\n"
   ]
  },
  {
   "cell_type": "code",
   "execution_count": 299,
   "id": "07d0c1c1",
   "metadata": {},
   "outputs": [],
   "source": [
    "#here accuracy is 100% while logistic regression we are getting 84% of accuracy.\n"
   ]
  },
  {
   "cell_type": "code",
   "execution_count": 300,
   "id": "283ed47e",
   "metadata": {},
   "outputs": [
    {
     "name": "stdout",
     "output_type": "stream",
     "text": [
      "[1 1 0 1 1 1 1 1 1 1 0 1 1 1 0 1 1 0 0 1 1 0 1 1 0 1 1 0 1 0 1 1 1 1 1 1 1\n",
      " 1 1 1 1 1 1 1 0 1 1 1 1 1 1 1 0 1 1 1 1 1 1 1 1 1 1 1 0 1 1 1 1 1 1 1 0 1\n",
      " 1 1 1 0]\n"
     ]
    }
   ],
   "source": [
    "#making prediction on test data.\n",
    "y_pred_1_rfc = rfc.predict(x_test)\n",
    "print(y_pred_1_rfc)"
   ]
  },
  {
   "cell_type": "code",
   "execution_count": 301,
   "id": "79ad4074",
   "metadata": {},
   "outputs": [
    {
     "name": "stdout",
     "output_type": "stream",
     "text": [
      "The accuracy on test data's predition is- 0.9358974358974359\n"
     ]
    }
   ],
   "source": [
    "#checking the accuracy of above prediction.\n",
    "acc_1 = accuracy_score(y_test,y_pred_1_rfc)\n",
    "print(\"The accuracy on test data's predition is-\",acc_1)\n"
   ]
  },
  {
   "cell_type": "code",
   "execution_count": 302,
   "id": "03854fdd",
   "metadata": {},
   "outputs": [],
   "source": [
    "#here accuracy is 93% while logistic regression we are getting 93% of accuracy."
   ]
  },
  {
   "cell_type": "code",
   "execution_count": 303,
   "id": "19ad9cc2",
   "metadata": {},
   "outputs": [
    {
     "name": "stdout",
     "output_type": "stream",
     "text": [
      "The confusion matrix for train data of randomForestClassifier is->\n",
      "[[31  0]\n",
      " [ 0 86]]\n",
      "The confusion matrix for test data of randomForestClassifier is->\n",
      "[[13  4]\n",
      " [ 1 60]]\n"
     ]
    }
   ],
   "source": [
    "#Confusion amtrix.\n",
    "print(\"The confusion matrix for train data of randomForestClassifier is->\")\n",
    "print(confusion_matrix(y_train,y_pred_rfc))\n",
    "print(\"The confusion matrix for test data of randomForestClassifier is->\")\n",
    "print(confusion_matrix(y_test,y_pred_1_rfc))"
   ]
  },
  {
   "cell_type": "code",
   "execution_count": 304,
   "id": "4842fbb6",
   "metadata": {},
   "outputs": [
    {
     "name": "stdout",
     "output_type": "stream",
     "text": [
      "Classsifcation report for train->\n",
      "              precision    recall  f1-score   support\n",
      "\n",
      "           0       1.00      1.00      1.00        31\n",
      "           1       1.00      1.00      1.00        86\n",
      "\n",
      "    accuracy                           1.00       117\n",
      "   macro avg       1.00      1.00      1.00       117\n",
      "weighted avg       1.00      1.00      1.00       117\n",
      "\n",
      "Classsifcation report for test->\n",
      "              precision    recall  f1-score   support\n",
      "\n",
      "           0       0.93      0.76      0.84        17\n",
      "           1       0.94      0.98      0.96        61\n",
      "\n",
      "    accuracy                           0.94        78\n",
      "   macro avg       0.93      0.87      0.90        78\n",
      "weighted avg       0.94      0.94      0.93        78\n",
      "\n"
     ]
    }
   ],
   "source": [
    "#Classification report.\n",
    "print(\"Classsifcation report for train->\")\n",
    "print(classification_report(y_train,y_pred_rfc))\n",
    "print(\"Classsifcation report for test->\")\n",
    "print(classification_report(y_test,y_pred_1_rfc))"
   ]
  },
  {
   "cell_type": "code",
   "execution_count": 305,
   "id": "34255162",
   "metadata": {},
   "outputs": [
    {
     "name": "stdout",
     "output_type": "stream",
     "text": [
      "5 / 10\n"
     ]
    }
   ],
   "source": [
    "#checking wrong predictions made.\n",
    "print((y_test!=y_pred_1_rfc).sum(),\"/\",(y_test!=y_pred_1_rfc).sum()+(y_test!=y_pred_1_rfc).sum())"
   ]
  },
  {
   "cell_type": "code",
   "execution_count": 306,
   "id": "22fd6dbb",
   "metadata": {},
   "outputs": [],
   "source": [
    "#here 5 out 10 data are predictied wrong."
   ]
  },
  {
   "cell_type": "code",
   "execution_count": 307,
   "id": "8f8a946b",
   "metadata": {},
   "outputs": [
    {
     "name": "stdout",
     "output_type": "stream",
     "text": [
      "The kappa score is:-> 0.7991761071060762\n"
     ]
    }
   ],
   "source": [
    "#Checking kappa score.\n",
    "from sklearn import metrics\n",
    "print(\"The kappa score is:->\",metrics.cohen_kappa_score(y_test,y_pred_1_rfc))"
   ]
  },
  {
   "cell_type": "code",
   "execution_count": 308,
   "id": "ccdb80c4",
   "metadata": {},
   "outputs": [],
   "source": [
    "#The degree of agreement is same as expecteed since it is close to zero."
   ]
  },
  {
   "cell_type": "code",
   "execution_count": 309,
   "id": "de8b7b2c",
   "metadata": {},
   "outputs": [
    {
     "data": {
      "text/html": [
       "<div>\n",
       "<style scoped>\n",
       "    .dataframe tbody tr th:only-of-type {\n",
       "        vertical-align: middle;\n",
       "    }\n",
       "\n",
       "    .dataframe tbody tr th {\n",
       "        vertical-align: top;\n",
       "    }\n",
       "\n",
       "    .dataframe thead th {\n",
       "        text-align: right;\n",
       "    }\n",
       "</style>\n",
       "<table border=\"1\" class=\"dataframe\">\n",
       "  <thead>\n",
       "    <tr style=\"text-align: right;\">\n",
       "      <th></th>\n",
       "      <th>83</th>\n",
       "      <th>12</th>\n",
       "      <th>33</th>\n",
       "      <th>113</th>\n",
       "      <th>171</th>\n",
       "      <th>134</th>\n",
       "      <th>163</th>\n",
       "      <th>124</th>\n",
       "      <th>74</th>\n",
       "      <th>18</th>\n",
       "      <th>...</th>\n",
       "      <th>86</th>\n",
       "      <th>96</th>\n",
       "      <th>183</th>\n",
       "      <th>146</th>\n",
       "      <th>192</th>\n",
       "      <th>14</th>\n",
       "      <th>27</th>\n",
       "      <th>97</th>\n",
       "      <th>156</th>\n",
       "      <th>46</th>\n",
       "    </tr>\n",
       "  </thead>\n",
       "  <tbody>\n",
       "    <tr>\n",
       "      <th>status</th>\n",
       "      <td>1.0</td>\n",
       "      <td>1.0</td>\n",
       "      <td>0.0</td>\n",
       "      <td>1.0</td>\n",
       "      <td>0.0</td>\n",
       "      <td>1.0</td>\n",
       "      <td>1.0</td>\n",
       "      <td>1.0</td>\n",
       "      <td>1.0</td>\n",
       "      <td>1.0</td>\n",
       "      <td>...</td>\n",
       "      <td>1.0</td>\n",
       "      <td>1.0</td>\n",
       "      <td>0.0</td>\n",
       "      <td>1.0</td>\n",
       "      <td>0.0</td>\n",
       "      <td>1.0</td>\n",
       "      <td>1.0</td>\n",
       "      <td>1.0</td>\n",
       "      <td>1.0</td>\n",
       "      <td>0.0</td>\n",
       "    </tr>\n",
       "    <tr>\n",
       "      <th>Unnamed 0</th>\n",
       "      <td>NaN</td>\n",
       "      <td>1.0</td>\n",
       "      <td>1.0</td>\n",
       "      <td>NaN</td>\n",
       "      <td>NaN</td>\n",
       "      <td>NaN</td>\n",
       "      <td>NaN</td>\n",
       "      <td>NaN</td>\n",
       "      <td>1.0</td>\n",
       "      <td>0.0</td>\n",
       "      <td>...</td>\n",
       "      <td>NaN</td>\n",
       "      <td>NaN</td>\n",
       "      <td>NaN</td>\n",
       "      <td>NaN</td>\n",
       "      <td>NaN</td>\n",
       "      <td>0.0</td>\n",
       "      <td>0.0</td>\n",
       "      <td>NaN</td>\n",
       "      <td>NaN</td>\n",
       "      <td>1.0</td>\n",
       "    </tr>\n",
       "  </tbody>\n",
       "</table>\n",
       "<p>2 rows × 78 columns</p>\n",
       "</div>"
      ],
      "text/plain": [
       "           83   12   33   113  171  134  163  124  74   18   ...  86   96   \\\n",
       "status     1.0  1.0  0.0  1.0  0.0  1.0  1.0  1.0  1.0  1.0  ...  1.0  1.0   \n",
       "Unnamed 0  NaN  1.0  1.0  NaN  NaN  NaN  NaN  NaN  1.0  0.0  ...  NaN  NaN   \n",
       "\n",
       "           183  146  192  14   27   97   156  46   \n",
       "status     0.0  1.0  0.0  1.0  1.0  1.0  1.0  0.0  \n",
       "Unnamed 0  NaN  NaN  NaN  0.0  0.0  NaN  NaN  1.0  \n",
       "\n",
       "[2 rows x 78 columns]"
      ]
     },
     "metadata": {},
     "output_type": "display_data"
    }
   ],
   "source": [
    "#display test and predicted value.\n",
    "display(pd.DataFrame(data=[y_test,y_pred_1_rfc]))"
   ]
  },
  {
   "cell_type": "code",
   "execution_count": 310,
   "id": "6feb1a25",
   "metadata": {},
   "outputs": [
    {
     "data": {
      "text/html": [
       "<div>\n",
       "<style scoped>\n",
       "    .dataframe tbody tr th:only-of-type {\n",
       "        vertical-align: middle;\n",
       "    }\n",
       "\n",
       "    .dataframe tbody tr th {\n",
       "        vertical-align: top;\n",
       "    }\n",
       "\n",
       "    .dataframe thead th {\n",
       "        text-align: right;\n",
       "    }\n",
       "</style>\n",
       "<table border=\"1\" class=\"dataframe\">\n",
       "  <thead>\n",
       "    <tr style=\"text-align: right;\">\n",
       "      <th></th>\n",
       "      <th>status</th>\n",
       "      <th>Unnamed 0</th>\n",
       "    </tr>\n",
       "  </thead>\n",
       "  <tbody>\n",
       "    <tr>\n",
       "      <th>83</th>\n",
       "      <td>1.0</td>\n",
       "      <td>NaN</td>\n",
       "    </tr>\n",
       "    <tr>\n",
       "      <th>12</th>\n",
       "      <td>1.0</td>\n",
       "      <td>1.0</td>\n",
       "    </tr>\n",
       "    <tr>\n",
       "      <th>33</th>\n",
       "      <td>0.0</td>\n",
       "      <td>1.0</td>\n",
       "    </tr>\n",
       "    <tr>\n",
       "      <th>113</th>\n",
       "      <td>1.0</td>\n",
       "      <td>NaN</td>\n",
       "    </tr>\n",
       "    <tr>\n",
       "      <th>171</th>\n",
       "      <td>0.0</td>\n",
       "      <td>NaN</td>\n",
       "    </tr>\n",
       "    <tr>\n",
       "      <th>...</th>\n",
       "      <td>...</td>\n",
       "      <td>...</td>\n",
       "    </tr>\n",
       "    <tr>\n",
       "      <th>14</th>\n",
       "      <td>1.0</td>\n",
       "      <td>0.0</td>\n",
       "    </tr>\n",
       "    <tr>\n",
       "      <th>27</th>\n",
       "      <td>1.0</td>\n",
       "      <td>0.0</td>\n",
       "    </tr>\n",
       "    <tr>\n",
       "      <th>97</th>\n",
       "      <td>1.0</td>\n",
       "      <td>NaN</td>\n",
       "    </tr>\n",
       "    <tr>\n",
       "      <th>156</th>\n",
       "      <td>1.0</td>\n",
       "      <td>NaN</td>\n",
       "    </tr>\n",
       "    <tr>\n",
       "      <th>46</th>\n",
       "      <td>0.0</td>\n",
       "      <td>1.0</td>\n",
       "    </tr>\n",
       "  </tbody>\n",
       "</table>\n",
       "<p>78 rows × 2 columns</p>\n",
       "</div>"
      ],
      "text/plain": [
       "     status  Unnamed 0\n",
       "83      1.0        NaN\n",
       "12      1.0        1.0\n",
       "33      0.0        1.0\n",
       "113     1.0        NaN\n",
       "171     0.0        NaN\n",
       "..      ...        ...\n",
       "14      1.0        0.0\n",
       "27      1.0        0.0\n",
       "97      1.0        NaN\n",
       "156     1.0        NaN\n",
       "46      0.0        1.0\n",
       "\n",
       "[78 rows x 2 columns]"
      ]
     },
     "metadata": {},
     "output_type": "display_data"
    }
   ],
   "source": [
    "#display test and predicted value's transpose.\n",
    "display(pd.DataFrame(data=[y_test,y_pred_1_rfc]).T)"
   ]
  },
  {
   "cell_type": "code",
   "execution_count": 311,
   "id": "5abb3bf4",
   "metadata": {},
   "outputs": [
    {
     "name": "stdout",
     "output_type": "stream",
     "text": [
      "DecisionTreeClassifier()\n"
     ]
    }
   ],
   "source": [
    "#Decision tree classifier.\n",
    "from sklearn.tree import DecisionTreeClassifier\n",
    "dtc = DecisionTreeClassifier()\n",
    "dtc.fit(x,y)\n",
    "print(dtc)\n",
    "# Here i have created DecisionTreeClassifier model on x and y train data to make predictions dependent varibale y."
   ]
  },
  {
   "cell_type": "code",
   "execution_count": 312,
   "id": "fe131f43",
   "metadata": {},
   "outputs": [
    {
     "name": "stdout",
     "output_type": "stream",
     "text": [
      "[0 0 0 1 1 1 1 0 1 1 1 0 1 1 1 1 1 1 0 0 1 1 1 1 0 1 1 1 0 0 1 1 1 1 1 1 1\n",
      " 1 1 1 0 1 1 1 1 0 1 1 1 1 1 1 1 0 1 1 0 1 1 1 0 1 0 1 1 1 0 1 1 0 1 1 1 0\n",
      " 1 1 0 1 1 1 0 1 1 0 0 1 0 1 1 1 1 1 1 1 0 1 1 1 0 1 0 0 0 1 1 1 1 1 1 1 1\n",
      " 1 1 1 1 0 0]\n"
     ]
    }
   ],
   "source": [
    "# making prediction on train data.\n",
    "y_pred_dtc = dtc.predict(x_train)\n",
    "print(y_pred_dtc)#this is prediction on status of diesase 0 repesents no and 1 says yes.\n"
   ]
  },
  {
   "cell_type": "code",
   "execution_count": 313,
   "id": "f9be682d",
   "metadata": {},
   "outputs": [
    {
     "name": "stdout",
     "output_type": "stream",
     "text": [
      "The accuracy on test data's predition is- 1.0\n"
     ]
    }
   ],
   "source": [
    "#checking the accuracy for prediction\n",
    "acc = accuracy_score(y_train,y_pred_dtc)\n",
    "print(\"The accuracy on test data's predition is-\",acc)\n"
   ]
  },
  {
   "cell_type": "code",
   "execution_count": 314,
   "id": "62265ba5",
   "metadata": {},
   "outputs": [],
   "source": [
    "#here accuracy is 100% while logistic regression we are getting 84% of accuracy."
   ]
  },
  {
   "cell_type": "code",
   "execution_count": 315,
   "id": "421f2d9a",
   "metadata": {},
   "outputs": [
    {
     "name": "stdout",
     "output_type": "stream",
     "text": [
      "[1 1 0 1 1 1 1 1 1 1 0 1 1 1 0 1 1 0 0 1 1 0 1 1 0 1 1 0 1 0 1 1 1 1 1 1 1\n",
      " 1 1 1 1 1 1 1 0 1 1 1 1 1 1 1 0 1 1 1 1 1 1 1 1 1 1 1 0 1 1 1 1 1 1 1 0 1\n",
      " 1 1 1 0]\n"
     ]
    }
   ],
   "source": [
    "#making prediction on test data.\n",
    "y_pred_1_dtc = rfc.predict(x_test)\n",
    "print(y_pred_1_dtc)"
   ]
  },
  {
   "cell_type": "code",
   "execution_count": 316,
   "id": "76ff4ff0",
   "metadata": {},
   "outputs": [
    {
     "name": "stdout",
     "output_type": "stream",
     "text": [
      "The accuracy on test data's predition is- 0.9358974358974359\n"
     ]
    }
   ],
   "source": [
    "#checking the accuracy of above prediction.\n",
    "acc_1 = accuracy_score(y_test,y_pred_1_dtc)\n",
    "print(\"The accuracy on test data's predition is-\",acc_1)"
   ]
  },
  {
   "cell_type": "code",
   "execution_count": 317,
   "id": "1ba82cd1",
   "metadata": {},
   "outputs": [],
   "source": [
    "#here accuracy is 93% while logistic regression we are getting 84% of accuracy."
   ]
  },
  {
   "cell_type": "code",
   "execution_count": 318,
   "id": "aec0ce4a",
   "metadata": {},
   "outputs": [
    {
     "name": "stdout",
     "output_type": "stream",
     "text": [
      "The confusion matrix for train data of DecisionTreeClassifier is->\n",
      "[[31  0]\n",
      " [ 0 86]]\n",
      "The confusion matrix for test data of DecisionTreeClassifier is->\n",
      "[[13  4]\n",
      " [ 1 60]]\n"
     ]
    }
   ],
   "source": [
    "#Confusion amtrix.\n",
    "print(\"The confusion matrix for train data of DecisionTreeClassifier is->\")\n",
    "print(confusion_matrix(y_train,y_pred_dtc))\n",
    "print(\"The confusion matrix for test data of DecisionTreeClassifier is->\")\n",
    "print(confusion_matrix(y_test,y_pred_1_dtc))"
   ]
  },
  {
   "cell_type": "code",
   "execution_count": 319,
   "id": "5b397891",
   "metadata": {},
   "outputs": [
    {
     "name": "stdout",
     "output_type": "stream",
     "text": [
      "Classsifcation report for train->\n",
      "              precision    recall  f1-score   support\n",
      "\n",
      "           0       1.00      1.00      1.00        31\n",
      "           1       1.00      1.00      1.00        86\n",
      "\n",
      "    accuracy                           1.00       117\n",
      "   macro avg       1.00      1.00      1.00       117\n",
      "weighted avg       1.00      1.00      1.00       117\n",
      "\n",
      "Classsifcation report for test->\n",
      "              precision    recall  f1-score   support\n",
      "\n",
      "           0       0.93      0.76      0.84        17\n",
      "           1       0.94      0.98      0.96        61\n",
      "\n",
      "    accuracy                           0.94        78\n",
      "   macro avg       0.93      0.87      0.90        78\n",
      "weighted avg       0.94      0.94      0.93        78\n",
      "\n"
     ]
    }
   ],
   "source": [
    "#Classification report.\n",
    "print(\"Classsifcation report for train->\")\n",
    "print(classification_report(y_train,y_pred_dtc))\n",
    "print(\"Classsifcation report for test->\")\n",
    "print(classification_report(y_test,y_pred_1_dtc))"
   ]
  },
  {
   "cell_type": "code",
   "execution_count": 320,
   "id": "4f93b739",
   "metadata": {},
   "outputs": [
    {
     "name": "stdout",
     "output_type": "stream",
     "text": [
      "5 / 10\n"
     ]
    }
   ],
   "source": [
    "#checking wrong predictions made.\n",
    "print((y_test!=y_pred_1_dtc).sum(),\"/\",(y_test!=y_pred_1_dtc).sum()+(y_test!=y_pred_1_dtc).sum())"
   ]
  },
  {
   "cell_type": "code",
   "execution_count": 321,
   "id": "3e77d85e",
   "metadata": {},
   "outputs": [],
   "source": [
    "#here 5 out 10 data are predictied wrong."
   ]
  },
  {
   "cell_type": "code",
   "execution_count": 322,
   "id": "fafd1518",
   "metadata": {},
   "outputs": [
    {
     "name": "stdout",
     "output_type": "stream",
     "text": [
      "The kappa score is:-> 0.7991761071060762\n"
     ]
    }
   ],
   "source": [
    "#Checking kappa score.\n",
    "from sklearn import metrics\n",
    "print(\"The kappa score is:->\",metrics.cohen_kappa_score(y_test,y_pred_1_dtc))"
   ]
  },
  {
   "cell_type": "code",
   "execution_count": 323,
   "id": "a4d59f23",
   "metadata": {},
   "outputs": [],
   "source": [
    "#The degree of agreement is same as expecteed since it is close to zero."
   ]
  },
  {
   "cell_type": "code",
   "execution_count": 324,
   "id": "8f195598",
   "metadata": {},
   "outputs": [
    {
     "data": {
      "text/html": [
       "<div>\n",
       "<style scoped>\n",
       "    .dataframe tbody tr th:only-of-type {\n",
       "        vertical-align: middle;\n",
       "    }\n",
       "\n",
       "    .dataframe tbody tr th {\n",
       "        vertical-align: top;\n",
       "    }\n",
       "\n",
       "    .dataframe thead th {\n",
       "        text-align: right;\n",
       "    }\n",
       "</style>\n",
       "<table border=\"1\" class=\"dataframe\">\n",
       "  <thead>\n",
       "    <tr style=\"text-align: right;\">\n",
       "      <th></th>\n",
       "      <th>83</th>\n",
       "      <th>12</th>\n",
       "      <th>33</th>\n",
       "      <th>113</th>\n",
       "      <th>171</th>\n",
       "      <th>134</th>\n",
       "      <th>163</th>\n",
       "      <th>124</th>\n",
       "      <th>74</th>\n",
       "      <th>18</th>\n",
       "      <th>...</th>\n",
       "      <th>86</th>\n",
       "      <th>96</th>\n",
       "      <th>183</th>\n",
       "      <th>146</th>\n",
       "      <th>192</th>\n",
       "      <th>14</th>\n",
       "      <th>27</th>\n",
       "      <th>97</th>\n",
       "      <th>156</th>\n",
       "      <th>46</th>\n",
       "    </tr>\n",
       "  </thead>\n",
       "  <tbody>\n",
       "    <tr>\n",
       "      <th>status</th>\n",
       "      <td>1.0</td>\n",
       "      <td>1.0</td>\n",
       "      <td>0.0</td>\n",
       "      <td>1.0</td>\n",
       "      <td>0.0</td>\n",
       "      <td>1.0</td>\n",
       "      <td>1.0</td>\n",
       "      <td>1.0</td>\n",
       "      <td>1.0</td>\n",
       "      <td>1.0</td>\n",
       "      <td>...</td>\n",
       "      <td>1.0</td>\n",
       "      <td>1.0</td>\n",
       "      <td>0.0</td>\n",
       "      <td>1.0</td>\n",
       "      <td>0.0</td>\n",
       "      <td>1.0</td>\n",
       "      <td>1.0</td>\n",
       "      <td>1.0</td>\n",
       "      <td>1.0</td>\n",
       "      <td>0.0</td>\n",
       "    </tr>\n",
       "    <tr>\n",
       "      <th>Unnamed 0</th>\n",
       "      <td>NaN</td>\n",
       "      <td>1.0</td>\n",
       "      <td>1.0</td>\n",
       "      <td>NaN</td>\n",
       "      <td>NaN</td>\n",
       "      <td>NaN</td>\n",
       "      <td>NaN</td>\n",
       "      <td>NaN</td>\n",
       "      <td>1.0</td>\n",
       "      <td>0.0</td>\n",
       "      <td>...</td>\n",
       "      <td>NaN</td>\n",
       "      <td>NaN</td>\n",
       "      <td>NaN</td>\n",
       "      <td>NaN</td>\n",
       "      <td>NaN</td>\n",
       "      <td>0.0</td>\n",
       "      <td>0.0</td>\n",
       "      <td>NaN</td>\n",
       "      <td>NaN</td>\n",
       "      <td>1.0</td>\n",
       "    </tr>\n",
       "  </tbody>\n",
       "</table>\n",
       "<p>2 rows × 78 columns</p>\n",
       "</div>"
      ],
      "text/plain": [
       "           83   12   33   113  171  134  163  124  74   18   ...  86   96   \\\n",
       "status     1.0  1.0  0.0  1.0  0.0  1.0  1.0  1.0  1.0  1.0  ...  1.0  1.0   \n",
       "Unnamed 0  NaN  1.0  1.0  NaN  NaN  NaN  NaN  NaN  1.0  0.0  ...  NaN  NaN   \n",
       "\n",
       "           183  146  192  14   27   97   156  46   \n",
       "status     0.0  1.0  0.0  1.0  1.0  1.0  1.0  0.0  \n",
       "Unnamed 0  NaN  NaN  NaN  0.0  0.0  NaN  NaN  1.0  \n",
       "\n",
       "[2 rows x 78 columns]"
      ]
     },
     "metadata": {},
     "output_type": "display_data"
    }
   ],
   "source": [
    "#display test and predicted value.\n",
    "display(pd.DataFrame(data=[y_test,y_pred_1_dtc]))"
   ]
  },
  {
   "cell_type": "code",
   "execution_count": 325,
   "id": "b3b389b7",
   "metadata": {},
   "outputs": [
    {
     "data": {
      "text/html": [
       "<div>\n",
       "<style scoped>\n",
       "    .dataframe tbody tr th:only-of-type {\n",
       "        vertical-align: middle;\n",
       "    }\n",
       "\n",
       "    .dataframe tbody tr th {\n",
       "        vertical-align: top;\n",
       "    }\n",
       "\n",
       "    .dataframe thead th {\n",
       "        text-align: right;\n",
       "    }\n",
       "</style>\n",
       "<table border=\"1\" class=\"dataframe\">\n",
       "  <thead>\n",
       "    <tr style=\"text-align: right;\">\n",
       "      <th></th>\n",
       "      <th>status</th>\n",
       "      <th>Unnamed 0</th>\n",
       "    </tr>\n",
       "  </thead>\n",
       "  <tbody>\n",
       "    <tr>\n",
       "      <th>83</th>\n",
       "      <td>1.0</td>\n",
       "      <td>NaN</td>\n",
       "    </tr>\n",
       "    <tr>\n",
       "      <th>12</th>\n",
       "      <td>1.0</td>\n",
       "      <td>1.0</td>\n",
       "    </tr>\n",
       "    <tr>\n",
       "      <th>33</th>\n",
       "      <td>0.0</td>\n",
       "      <td>1.0</td>\n",
       "    </tr>\n",
       "    <tr>\n",
       "      <th>113</th>\n",
       "      <td>1.0</td>\n",
       "      <td>NaN</td>\n",
       "    </tr>\n",
       "    <tr>\n",
       "      <th>171</th>\n",
       "      <td>0.0</td>\n",
       "      <td>NaN</td>\n",
       "    </tr>\n",
       "    <tr>\n",
       "      <th>...</th>\n",
       "      <td>...</td>\n",
       "      <td>...</td>\n",
       "    </tr>\n",
       "    <tr>\n",
       "      <th>14</th>\n",
       "      <td>1.0</td>\n",
       "      <td>0.0</td>\n",
       "    </tr>\n",
       "    <tr>\n",
       "      <th>27</th>\n",
       "      <td>1.0</td>\n",
       "      <td>0.0</td>\n",
       "    </tr>\n",
       "    <tr>\n",
       "      <th>97</th>\n",
       "      <td>1.0</td>\n",
       "      <td>NaN</td>\n",
       "    </tr>\n",
       "    <tr>\n",
       "      <th>156</th>\n",
       "      <td>1.0</td>\n",
       "      <td>NaN</td>\n",
       "    </tr>\n",
       "    <tr>\n",
       "      <th>46</th>\n",
       "      <td>0.0</td>\n",
       "      <td>1.0</td>\n",
       "    </tr>\n",
       "  </tbody>\n",
       "</table>\n",
       "<p>78 rows × 2 columns</p>\n",
       "</div>"
      ],
      "text/plain": [
       "     status  Unnamed 0\n",
       "83      1.0        NaN\n",
       "12      1.0        1.0\n",
       "33      0.0        1.0\n",
       "113     1.0        NaN\n",
       "171     0.0        NaN\n",
       "..      ...        ...\n",
       "14      1.0        0.0\n",
       "27      1.0        0.0\n",
       "97      1.0        NaN\n",
       "156     1.0        NaN\n",
       "46      0.0        1.0\n",
       "\n",
       "[78 rows x 2 columns]"
      ]
     },
     "metadata": {},
     "output_type": "display_data"
    }
   ],
   "source": [
    "#display test and predicted value's transpose.\n",
    "display(pd.DataFrame(data=[y_test,y_pred_1_dtc]).T)"
   ]
  },
  {
   "cell_type": "code",
   "execution_count": 326,
   "id": "d144b415",
   "metadata": {},
   "outputs": [],
   "source": [
    "#here we created model on whole x and y while in randomForestClassifier we created model \n",
    "#on x's and y's train data but result in both the model are same."
   ]
  },
  {
   "cell_type": "code",
   "execution_count": 327,
   "id": "e8774cfc",
   "metadata": {},
   "outputs": [
    {
     "name": "stdout",
     "output_type": "stream",
     "text": [
      "GaussianNB()\n"
     ]
    }
   ],
   "source": [
    "#Naive Bayce  algorithm \n",
    "from sklearn.naive_bayes import GaussianNB\n",
    "GNB = GaussianNB()\n",
    "GNB.fit(x_train,y_train)\n",
    "print(GNB)\n",
    "# Here i have created Naive Bayce  algorithm  model on x and y train data to make predictions dependent varibale y."
   ]
  },
  {
   "cell_type": "code",
   "execution_count": 328,
   "id": "ba5591bf",
   "metadata": {},
   "outputs": [
    {
     "name": "stdout",
     "output_type": "stream",
     "text": [
      "[0 0 0 1 1 1 1 0 1 1 1 0 1 1 1 1 1 1 0 0 1 1 1 1 0 1 1 1 0 0 1 1 1 1 1 1 1\n",
      " 1 1 1 0 1 1 1 1 0 1 1 1 1 1 1 1 0 1 1 0 1 1 1 0 1 0 1 1 1 0 1 1 0 1 1 1 0\n",
      " 1 1 0 1 1 1 0 1 1 0 0 1 0 1 1 1 1 1 1 1 0 1 1 1 0 1 0 0 0 1 1 1 1 1 1 1 1\n",
      " 1 1 1 1 0 0]\n"
     ]
    }
   ],
   "source": [
    "# making prediction on train data.\n",
    "y_pred_GNB = dtc.predict(x_train)\n",
    "print(y_pred_GNB)#this is prediction on status of diesase 0 repesents no and 1 says yes.\n"
   ]
  },
  {
   "cell_type": "code",
   "execution_count": 329,
   "id": "718bda47",
   "metadata": {},
   "outputs": [
    {
     "name": "stdout",
     "output_type": "stream",
     "text": [
      "The accuracy on test data's predition is- 1.0\n"
     ]
    }
   ],
   "source": [
    "#checking the accuracy for prediction\n",
    "acc = accuracy_score(y_train,y_pred_GNB)\n",
    "print(\"The accuracy on test data's predition is-\",acc)\n"
   ]
  },
  {
   "cell_type": "code",
   "execution_count": 330,
   "id": "9b1658c4",
   "metadata": {},
   "outputs": [],
   "source": [
    "#here accuracy is 100% while logistic regression we are getting 84% of accuracy."
   ]
  },
  {
   "cell_type": "code",
   "execution_count": 331,
   "id": "12c2aee1",
   "metadata": {},
   "outputs": [
    {
     "name": "stdout",
     "output_type": "stream",
     "text": [
      "[1 1 0 1 1 1 1 1 1 1 0 1 1 1 0 1 1 0 0 1 1 0 1 1 0 1 1 0 1 0 1 1 1 1 1 1 1\n",
      " 1 1 1 1 1 1 1 0 1 1 1 1 1 1 1 0 1 1 1 1 1 1 1 1 1 1 1 0 1 1 1 1 1 1 1 0 1\n",
      " 1 1 1 0]\n"
     ]
    }
   ],
   "source": [
    "#making prediction on test data.\n",
    "y_pred_1_GNB = rfc.predict(x_test)\n",
    "print(y_pred_1_GNB)"
   ]
  },
  {
   "cell_type": "code",
   "execution_count": 332,
   "id": "090ea168",
   "metadata": {},
   "outputs": [
    {
     "name": "stdout",
     "output_type": "stream",
     "text": [
      "The accuracy on test data's predition is- 0.9358974358974359\n"
     ]
    }
   ],
   "source": [
    "#checking the accuracy of above prediction.\n",
    "acc_1 = accuracy_score(y_test,y_pred_1_GNB)\n",
    "print(\"The accuracy on test data's predition is-\",acc_1)"
   ]
  },
  {
   "cell_type": "code",
   "execution_count": 333,
   "id": "f16e6589",
   "metadata": {},
   "outputs": [],
   "source": [
    "#here accuracy is 93% while logistic regression we are getting 84% of accuracy."
   ]
  },
  {
   "cell_type": "code",
   "execution_count": 334,
   "id": "29ef2894",
   "metadata": {},
   "outputs": [
    {
     "name": "stdout",
     "output_type": "stream",
     "text": [
      "The confusion matrix for train data of Naive Bayce  algorithm  is->\n",
      "[[31  0]\n",
      " [ 0 86]]\n",
      "The confusion matrix for test data of Naive Bayce  algorithm  is->\n",
      "[[13  4]\n",
      " [ 1 60]]\n"
     ]
    }
   ],
   "source": [
    "#Confusion amtrix.\n",
    "print(\"The confusion matrix for train data of Naive Bayce  algorithm  is->\")\n",
    "print(confusion_matrix(y_train,y_pred_GNB))\n",
    "print(\"The confusion matrix for test data of Naive Bayce  algorithm  is->\")\n",
    "print(confusion_matrix(y_test,y_pred_1_GNB))"
   ]
  },
  {
   "cell_type": "code",
   "execution_count": 335,
   "id": "5a612652",
   "metadata": {},
   "outputs": [
    {
     "name": "stdout",
     "output_type": "stream",
     "text": [
      "Classsifcation report for train->\n",
      "              precision    recall  f1-score   support\n",
      "\n",
      "           0       1.00      1.00      1.00        31\n",
      "           1       1.00      1.00      1.00        86\n",
      "\n",
      "    accuracy                           1.00       117\n",
      "   macro avg       1.00      1.00      1.00       117\n",
      "weighted avg       1.00      1.00      1.00       117\n",
      "\n",
      "Classsifcation report for test->\n",
      "              precision    recall  f1-score   support\n",
      "\n",
      "           0       0.93      0.76      0.84        17\n",
      "           1       0.94      0.98      0.96        61\n",
      "\n",
      "    accuracy                           0.94        78\n",
      "   macro avg       0.93      0.87      0.90        78\n",
      "weighted avg       0.94      0.94      0.93        78\n",
      "\n"
     ]
    }
   ],
   "source": [
    "#Classification report.\n",
    "print(\"Classsifcation report for train->\")\n",
    "print(classification_report(y_train,y_pred_GNB))\n",
    "print(\"Classsifcation report for test->\")\n",
    "print(classification_report(y_test,y_pred_1_GNB))"
   ]
  },
  {
   "cell_type": "code",
   "execution_count": 336,
   "id": "937bebaa",
   "metadata": {},
   "outputs": [
    {
     "name": "stdout",
     "output_type": "stream",
     "text": [
      "5 / 10\n"
     ]
    }
   ],
   "source": [
    "#checking wrong predictions made.\n",
    "print((y_test!=y_pred_1_GNB).sum(),\"/\",(y_test!=y_pred_1_GNB).sum()+(y_test!=y_pred_1_GNB).sum())"
   ]
  },
  {
   "cell_type": "code",
   "execution_count": 337,
   "id": "b108556c",
   "metadata": {},
   "outputs": [],
   "source": [
    "#here 6 out 12 data are predictied wrong."
   ]
  },
  {
   "cell_type": "code",
   "execution_count": 338,
   "id": "2005be98",
   "metadata": {},
   "outputs": [
    {
     "name": "stdout",
     "output_type": "stream",
     "text": [
      "The kappa score is:-> 0.7991761071060762\n"
     ]
    }
   ],
   "source": [
    "#Checking kappa score.\n",
    "from sklearn import metrics\n",
    "print(\"The kappa score is:->\",metrics.cohen_kappa_score(y_test,y_pred_1_GNB))"
   ]
  },
  {
   "cell_type": "code",
   "execution_count": 339,
   "id": "7f5cc130",
   "metadata": {},
   "outputs": [],
   "source": [
    "#The degree of agreement is same as expecteed since it is close to zero."
   ]
  },
  {
   "cell_type": "code",
   "execution_count": 340,
   "id": "8a16bbf0",
   "metadata": {},
   "outputs": [
    {
     "data": {
      "text/html": [
       "<div>\n",
       "<style scoped>\n",
       "    .dataframe tbody tr th:only-of-type {\n",
       "        vertical-align: middle;\n",
       "    }\n",
       "\n",
       "    .dataframe tbody tr th {\n",
       "        vertical-align: top;\n",
       "    }\n",
       "\n",
       "    .dataframe thead th {\n",
       "        text-align: right;\n",
       "    }\n",
       "</style>\n",
       "<table border=\"1\" class=\"dataframe\">\n",
       "  <thead>\n",
       "    <tr style=\"text-align: right;\">\n",
       "      <th></th>\n",
       "      <th>83</th>\n",
       "      <th>12</th>\n",
       "      <th>33</th>\n",
       "      <th>113</th>\n",
       "      <th>171</th>\n",
       "      <th>134</th>\n",
       "      <th>163</th>\n",
       "      <th>124</th>\n",
       "      <th>74</th>\n",
       "      <th>18</th>\n",
       "      <th>...</th>\n",
       "      <th>86</th>\n",
       "      <th>96</th>\n",
       "      <th>183</th>\n",
       "      <th>146</th>\n",
       "      <th>192</th>\n",
       "      <th>14</th>\n",
       "      <th>27</th>\n",
       "      <th>97</th>\n",
       "      <th>156</th>\n",
       "      <th>46</th>\n",
       "    </tr>\n",
       "  </thead>\n",
       "  <tbody>\n",
       "    <tr>\n",
       "      <th>status</th>\n",
       "      <td>1.0</td>\n",
       "      <td>1.0</td>\n",
       "      <td>0.0</td>\n",
       "      <td>1.0</td>\n",
       "      <td>0.0</td>\n",
       "      <td>1.0</td>\n",
       "      <td>1.0</td>\n",
       "      <td>1.0</td>\n",
       "      <td>1.0</td>\n",
       "      <td>1.0</td>\n",
       "      <td>...</td>\n",
       "      <td>1.0</td>\n",
       "      <td>1.0</td>\n",
       "      <td>0.0</td>\n",
       "      <td>1.0</td>\n",
       "      <td>0.0</td>\n",
       "      <td>1.0</td>\n",
       "      <td>1.0</td>\n",
       "      <td>1.0</td>\n",
       "      <td>1.0</td>\n",
       "      <td>0.0</td>\n",
       "    </tr>\n",
       "    <tr>\n",
       "      <th>Unnamed 0</th>\n",
       "      <td>NaN</td>\n",
       "      <td>1.0</td>\n",
       "      <td>1.0</td>\n",
       "      <td>NaN</td>\n",
       "      <td>NaN</td>\n",
       "      <td>NaN</td>\n",
       "      <td>NaN</td>\n",
       "      <td>NaN</td>\n",
       "      <td>1.0</td>\n",
       "      <td>0.0</td>\n",
       "      <td>...</td>\n",
       "      <td>NaN</td>\n",
       "      <td>NaN</td>\n",
       "      <td>NaN</td>\n",
       "      <td>NaN</td>\n",
       "      <td>NaN</td>\n",
       "      <td>0.0</td>\n",
       "      <td>0.0</td>\n",
       "      <td>NaN</td>\n",
       "      <td>NaN</td>\n",
       "      <td>1.0</td>\n",
       "    </tr>\n",
       "  </tbody>\n",
       "</table>\n",
       "<p>2 rows × 78 columns</p>\n",
       "</div>"
      ],
      "text/plain": [
       "           83   12   33   113  171  134  163  124  74   18   ...  86   96   \\\n",
       "status     1.0  1.0  0.0  1.0  0.0  1.0  1.0  1.0  1.0  1.0  ...  1.0  1.0   \n",
       "Unnamed 0  NaN  1.0  1.0  NaN  NaN  NaN  NaN  NaN  1.0  0.0  ...  NaN  NaN   \n",
       "\n",
       "           183  146  192  14   27   97   156  46   \n",
       "status     0.0  1.0  0.0  1.0  1.0  1.0  1.0  0.0  \n",
       "Unnamed 0  NaN  NaN  NaN  0.0  0.0  NaN  NaN  1.0  \n",
       "\n",
       "[2 rows x 78 columns]"
      ]
     },
     "metadata": {},
     "output_type": "display_data"
    }
   ],
   "source": [
    "#display test and predicted value.\n",
    "display(pd.DataFrame(data=[y_test,y_pred_1_GNB]))"
   ]
  },
  {
   "cell_type": "code",
   "execution_count": 341,
   "id": "1c3cb74d",
   "metadata": {},
   "outputs": [
    {
     "data": {
      "text/html": [
       "<div>\n",
       "<style scoped>\n",
       "    .dataframe tbody tr th:only-of-type {\n",
       "        vertical-align: middle;\n",
       "    }\n",
       "\n",
       "    .dataframe tbody tr th {\n",
       "        vertical-align: top;\n",
       "    }\n",
       "\n",
       "    .dataframe thead th {\n",
       "        text-align: right;\n",
       "    }\n",
       "</style>\n",
       "<table border=\"1\" class=\"dataframe\">\n",
       "  <thead>\n",
       "    <tr style=\"text-align: right;\">\n",
       "      <th></th>\n",
       "      <th>status</th>\n",
       "      <th>Unnamed 0</th>\n",
       "    </tr>\n",
       "  </thead>\n",
       "  <tbody>\n",
       "    <tr>\n",
       "      <th>83</th>\n",
       "      <td>1.0</td>\n",
       "      <td>NaN</td>\n",
       "    </tr>\n",
       "    <tr>\n",
       "      <th>12</th>\n",
       "      <td>1.0</td>\n",
       "      <td>1.0</td>\n",
       "    </tr>\n",
       "    <tr>\n",
       "      <th>33</th>\n",
       "      <td>0.0</td>\n",
       "      <td>1.0</td>\n",
       "    </tr>\n",
       "    <tr>\n",
       "      <th>113</th>\n",
       "      <td>1.0</td>\n",
       "      <td>NaN</td>\n",
       "    </tr>\n",
       "    <tr>\n",
       "      <th>171</th>\n",
       "      <td>0.0</td>\n",
       "      <td>NaN</td>\n",
       "    </tr>\n",
       "    <tr>\n",
       "      <th>...</th>\n",
       "      <td>...</td>\n",
       "      <td>...</td>\n",
       "    </tr>\n",
       "    <tr>\n",
       "      <th>14</th>\n",
       "      <td>1.0</td>\n",
       "      <td>0.0</td>\n",
       "    </tr>\n",
       "    <tr>\n",
       "      <th>27</th>\n",
       "      <td>1.0</td>\n",
       "      <td>0.0</td>\n",
       "    </tr>\n",
       "    <tr>\n",
       "      <th>97</th>\n",
       "      <td>1.0</td>\n",
       "      <td>NaN</td>\n",
       "    </tr>\n",
       "    <tr>\n",
       "      <th>156</th>\n",
       "      <td>1.0</td>\n",
       "      <td>NaN</td>\n",
       "    </tr>\n",
       "    <tr>\n",
       "      <th>46</th>\n",
       "      <td>0.0</td>\n",
       "      <td>1.0</td>\n",
       "    </tr>\n",
       "  </tbody>\n",
       "</table>\n",
       "<p>78 rows × 2 columns</p>\n",
       "</div>"
      ],
      "text/plain": [
       "     status  Unnamed 0\n",
       "83      1.0        NaN\n",
       "12      1.0        1.0\n",
       "33      0.0        1.0\n",
       "113     1.0        NaN\n",
       "171     0.0        NaN\n",
       "..      ...        ...\n",
       "14      1.0        0.0\n",
       "27      1.0        0.0\n",
       "97      1.0        NaN\n",
       "156     1.0        NaN\n",
       "46      0.0        1.0\n",
       "\n",
       "[78 rows x 2 columns]"
      ]
     },
     "metadata": {},
     "output_type": "display_data"
    }
   ],
   "source": [
    "#display test and predicted value's transpose.\n",
    "display(pd.DataFrame(data=[y_test,y_pred_1_GNB]).T)"
   ]
  },
  {
   "cell_type": "code",
   "execution_count": 342,
   "id": "ad948d29",
   "metadata": {},
   "outputs": [
    {
     "name": "stdout",
     "output_type": "stream",
     "text": [
      "KNeighborsClassifier()\n"
     ]
    }
   ],
   "source": [
    "#K Neighbours Classifier.\n",
    "from sklearn.neighbors import KNeighborsClassifier\n",
    "KNC = KNeighborsClassifier()\n",
    "KNC.fit(x_train,y_train)\n",
    "print(KNC)\n",
    "# Here i have created K Neighbours Classifier.  model on x and y train data to make predictions dependent varibale y."
   ]
  },
  {
   "cell_type": "code",
   "execution_count": 343,
   "id": "12ef12b1",
   "metadata": {},
   "outputs": [
    {
     "name": "stdout",
     "output_type": "stream",
     "text": [
      "[1 1 0 1 1 1 1 1 1 1 0 1 1 1 0 1 1 0 0 1 1 0 1 1 0 1 1 0 1 0 1 1 1 1 1 1 1\n",
      " 1 1 1 1 1 1 1 0 1 1 1 1 1 1 1 0 1 1 1 1 1 1 1 1 1 1 1 0 1 1 1 1 1 1 1 0 1\n",
      " 1 1 1 0]\n"
     ]
    }
   ],
   "source": [
    "#making prediction on test data.\n",
    "y_pred_1_KNC = rfc.predict(x_test)\n",
    "print(y_pred_1_KNC)"
   ]
  },
  {
   "cell_type": "code",
   "execution_count": 344,
   "id": "4bf9838d",
   "metadata": {},
   "outputs": [
    {
     "name": "stdout",
     "output_type": "stream",
     "text": [
      "The accuracy on test data's predition is- 0.9358974358974359\n"
     ]
    }
   ],
   "source": [
    "#checking the accuracy of above prediction.\n",
    "acc_1 = accuracy_score(y_test,y_pred_1_KNC)\n",
    "print(\"The accuracy on test data's predition is-\",acc_1)"
   ]
  },
  {
   "cell_type": "code",
   "execution_count": 345,
   "id": "92fc9cfc",
   "metadata": {},
   "outputs": [],
   "source": [
    "#here accuracy is 92% while logistic regression we are getting 84% of accuracy."
   ]
  },
  {
   "cell_type": "code",
   "execution_count": 346,
   "id": "374df897",
   "metadata": {},
   "outputs": [
    {
     "name": "stdout",
     "output_type": "stream",
     "text": [
      "The confusion matrix for train data of K Neighbors Classifier is->\n",
      "[[31  0]\n",
      " [ 0 86]]\n",
      "The confusion matrix for test data of K Neighbors Classifier  is->\n",
      "[[13  4]\n",
      " [ 1 60]]\n"
     ]
    }
   ],
   "source": [
    "#Confusion amtrix.\n",
    "print(\"The confusion matrix for train data of K Neighbors Classifier is->\")\n",
    "print(confusion_matrix(y_train,y_pred_KNC))\n",
    "print(\"The confusion matrix for test data of K Neighbors Classifier  is->\")\n",
    "print(confusion_matrix(y_test,y_pred_1_KNC))"
   ]
  },
  {
   "cell_type": "code",
   "execution_count": 347,
   "id": "9fbfe3ce",
   "metadata": {},
   "outputs": [
    {
     "name": "stdout",
     "output_type": "stream",
     "text": [
      "Classsifcation report for train->\n",
      "              precision    recall  f1-score   support\n",
      "\n",
      "           0       1.00      1.00      1.00        31\n",
      "           1       1.00      1.00      1.00        86\n",
      "\n",
      "    accuracy                           1.00       117\n",
      "   macro avg       1.00      1.00      1.00       117\n",
      "weighted avg       1.00      1.00      1.00       117\n",
      "\n",
      "Classsifcation report for test->\n",
      "              precision    recall  f1-score   support\n",
      "\n",
      "           0       0.93      0.76      0.84        17\n",
      "           1       0.94      0.98      0.96        61\n",
      "\n",
      "    accuracy                           0.94        78\n",
      "   macro avg       0.93      0.87      0.90        78\n",
      "weighted avg       0.94      0.94      0.93        78\n",
      "\n"
     ]
    }
   ],
   "source": [
    "#Classification report.\n",
    "print(\"Classsifcation report for train->\")\n",
    "print(classification_report(y_train,y_pred_KNC))\n",
    "print(\"Classsifcation report for test->\")\n",
    "print(classification_report(y_test,y_pred_1_KNC))"
   ]
  },
  {
   "cell_type": "code",
   "execution_count": 348,
   "id": "6e7b808a",
   "metadata": {},
   "outputs": [
    {
     "name": "stdout",
     "output_type": "stream",
     "text": [
      "5 / 10\n"
     ]
    }
   ],
   "source": [
    "#checking wrong predictions made.\n",
    "print((y_test!=y_pred_1_KNC).sum(),\"/\",(y_test!=y_pred_1_KNC).sum()+(y_test!=y_pred_1_KNC).sum())"
   ]
  },
  {
   "cell_type": "code",
   "execution_count": 349,
   "id": "25a67d72",
   "metadata": {},
   "outputs": [],
   "source": [
    "#here 4 out 8 data are predictied wrong."
   ]
  },
  {
   "cell_type": "code",
   "execution_count": 350,
   "id": "d1df65e4",
   "metadata": {},
   "outputs": [
    {
     "name": "stdout",
     "output_type": "stream",
     "text": [
      "The kappa score is:-> 0.7991761071060762\n"
     ]
    }
   ],
   "source": [
    "#Checking kappa score.\n",
    "from sklearn import metrics\n",
    "print(\"The kappa score is:->\",metrics.cohen_kappa_score(y_test,y_pred_1_KNC))"
   ]
  },
  {
   "cell_type": "code",
   "execution_count": 351,
   "id": "aa457c75",
   "metadata": {},
   "outputs": [],
   "source": [
    "#The degree of agreement is same as expecteed since it is close to zero."
   ]
  },
  {
   "cell_type": "code",
   "execution_count": 352,
   "id": "c4374d32",
   "metadata": {},
   "outputs": [
    {
     "data": {
      "text/html": [
       "<div>\n",
       "<style scoped>\n",
       "    .dataframe tbody tr th:only-of-type {\n",
       "        vertical-align: middle;\n",
       "    }\n",
       "\n",
       "    .dataframe tbody tr th {\n",
       "        vertical-align: top;\n",
       "    }\n",
       "\n",
       "    .dataframe thead th {\n",
       "        text-align: right;\n",
       "    }\n",
       "</style>\n",
       "<table border=\"1\" class=\"dataframe\">\n",
       "  <thead>\n",
       "    <tr style=\"text-align: right;\">\n",
       "      <th></th>\n",
       "      <th>83</th>\n",
       "      <th>12</th>\n",
       "      <th>33</th>\n",
       "      <th>113</th>\n",
       "      <th>171</th>\n",
       "      <th>134</th>\n",
       "      <th>163</th>\n",
       "      <th>124</th>\n",
       "      <th>74</th>\n",
       "      <th>18</th>\n",
       "      <th>...</th>\n",
       "      <th>86</th>\n",
       "      <th>96</th>\n",
       "      <th>183</th>\n",
       "      <th>146</th>\n",
       "      <th>192</th>\n",
       "      <th>14</th>\n",
       "      <th>27</th>\n",
       "      <th>97</th>\n",
       "      <th>156</th>\n",
       "      <th>46</th>\n",
       "    </tr>\n",
       "  </thead>\n",
       "  <tbody>\n",
       "    <tr>\n",
       "      <th>status</th>\n",
       "      <td>1.0</td>\n",
       "      <td>1.0</td>\n",
       "      <td>0.0</td>\n",
       "      <td>1.0</td>\n",
       "      <td>0.0</td>\n",
       "      <td>1.0</td>\n",
       "      <td>1.0</td>\n",
       "      <td>1.0</td>\n",
       "      <td>1.0</td>\n",
       "      <td>1.0</td>\n",
       "      <td>...</td>\n",
       "      <td>1.0</td>\n",
       "      <td>1.0</td>\n",
       "      <td>0.0</td>\n",
       "      <td>1.0</td>\n",
       "      <td>0.0</td>\n",
       "      <td>1.0</td>\n",
       "      <td>1.0</td>\n",
       "      <td>1.0</td>\n",
       "      <td>1.0</td>\n",
       "      <td>0.0</td>\n",
       "    </tr>\n",
       "    <tr>\n",
       "      <th>Unnamed 0</th>\n",
       "      <td>NaN</td>\n",
       "      <td>1.0</td>\n",
       "      <td>1.0</td>\n",
       "      <td>NaN</td>\n",
       "      <td>NaN</td>\n",
       "      <td>NaN</td>\n",
       "      <td>NaN</td>\n",
       "      <td>NaN</td>\n",
       "      <td>1.0</td>\n",
       "      <td>0.0</td>\n",
       "      <td>...</td>\n",
       "      <td>NaN</td>\n",
       "      <td>NaN</td>\n",
       "      <td>NaN</td>\n",
       "      <td>NaN</td>\n",
       "      <td>NaN</td>\n",
       "      <td>0.0</td>\n",
       "      <td>0.0</td>\n",
       "      <td>NaN</td>\n",
       "      <td>NaN</td>\n",
       "      <td>1.0</td>\n",
       "    </tr>\n",
       "  </tbody>\n",
       "</table>\n",
       "<p>2 rows × 78 columns</p>\n",
       "</div>"
      ],
      "text/plain": [
       "           83   12   33   113  171  134  163  124  74   18   ...  86   96   \\\n",
       "status     1.0  1.0  0.0  1.0  0.0  1.0  1.0  1.0  1.0  1.0  ...  1.0  1.0   \n",
       "Unnamed 0  NaN  1.0  1.0  NaN  NaN  NaN  NaN  NaN  1.0  0.0  ...  NaN  NaN   \n",
       "\n",
       "           183  146  192  14   27   97   156  46   \n",
       "status     0.0  1.0  0.0  1.0  1.0  1.0  1.0  0.0  \n",
       "Unnamed 0  NaN  NaN  NaN  0.0  0.0  NaN  NaN  1.0  \n",
       "\n",
       "[2 rows x 78 columns]"
      ]
     },
     "metadata": {},
     "output_type": "display_data"
    }
   ],
   "source": [
    "#display test and predicted value.\n",
    "display(pd.DataFrame(data=[y_test,y_pred_1_KNC]))"
   ]
  },
  {
   "cell_type": "code",
   "execution_count": 353,
   "id": "22dc6c39",
   "metadata": {},
   "outputs": [
    {
     "data": {
      "text/html": [
       "<div>\n",
       "<style scoped>\n",
       "    .dataframe tbody tr th:only-of-type {\n",
       "        vertical-align: middle;\n",
       "    }\n",
       "\n",
       "    .dataframe tbody tr th {\n",
       "        vertical-align: top;\n",
       "    }\n",
       "\n",
       "    .dataframe thead th {\n",
       "        text-align: right;\n",
       "    }\n",
       "</style>\n",
       "<table border=\"1\" class=\"dataframe\">\n",
       "  <thead>\n",
       "    <tr style=\"text-align: right;\">\n",
       "      <th></th>\n",
       "      <th>status</th>\n",
       "      <th>Unnamed 0</th>\n",
       "    </tr>\n",
       "  </thead>\n",
       "  <tbody>\n",
       "    <tr>\n",
       "      <th>83</th>\n",
       "      <td>1.0</td>\n",
       "      <td>NaN</td>\n",
       "    </tr>\n",
       "    <tr>\n",
       "      <th>12</th>\n",
       "      <td>1.0</td>\n",
       "      <td>1.0</td>\n",
       "    </tr>\n",
       "    <tr>\n",
       "      <th>33</th>\n",
       "      <td>0.0</td>\n",
       "      <td>1.0</td>\n",
       "    </tr>\n",
       "    <tr>\n",
       "      <th>113</th>\n",
       "      <td>1.0</td>\n",
       "      <td>NaN</td>\n",
       "    </tr>\n",
       "    <tr>\n",
       "      <th>171</th>\n",
       "      <td>0.0</td>\n",
       "      <td>NaN</td>\n",
       "    </tr>\n",
       "    <tr>\n",
       "      <th>...</th>\n",
       "      <td>...</td>\n",
       "      <td>...</td>\n",
       "    </tr>\n",
       "    <tr>\n",
       "      <th>14</th>\n",
       "      <td>1.0</td>\n",
       "      <td>0.0</td>\n",
       "    </tr>\n",
       "    <tr>\n",
       "      <th>27</th>\n",
       "      <td>1.0</td>\n",
       "      <td>0.0</td>\n",
       "    </tr>\n",
       "    <tr>\n",
       "      <th>97</th>\n",
       "      <td>1.0</td>\n",
       "      <td>NaN</td>\n",
       "    </tr>\n",
       "    <tr>\n",
       "      <th>156</th>\n",
       "      <td>1.0</td>\n",
       "      <td>NaN</td>\n",
       "    </tr>\n",
       "    <tr>\n",
       "      <th>46</th>\n",
       "      <td>0.0</td>\n",
       "      <td>1.0</td>\n",
       "    </tr>\n",
       "  </tbody>\n",
       "</table>\n",
       "<p>78 rows × 2 columns</p>\n",
       "</div>"
      ],
      "text/plain": [
       "     status  Unnamed 0\n",
       "83      1.0        NaN\n",
       "12      1.0        1.0\n",
       "33      0.0        1.0\n",
       "113     1.0        NaN\n",
       "171     0.0        NaN\n",
       "..      ...        ...\n",
       "14      1.0        0.0\n",
       "27      1.0        0.0\n",
       "97      1.0        NaN\n",
       "156     1.0        NaN\n",
       "46      0.0        1.0\n",
       "\n",
       "[78 rows x 2 columns]"
      ]
     },
     "metadata": {},
     "output_type": "display_data"
    }
   ],
   "source": [
    "#display test and predicted value's transpose.\n",
    "display(pd.DataFrame(data=[y_test,y_pred_1_KNC]).T)"
   ]
  },
  {
   "cell_type": "code",
   "execution_count": 354,
   "id": "b7a487f1",
   "metadata": {},
   "outputs": [
    {
     "name": "stdout",
     "output_type": "stream",
     "text": [
      "SVC(kernel='linear')\n"
     ]
    }
   ],
   "source": [
    "#Support Vector Machine \n",
    "#K Neighbours Classifier.\n",
    "from sklearn.svm import SVC\n",
    "SVC_ = SVC(kernel=\"linear\")\n",
    "SVC_.fit(x_train,y_train)\n",
    "print(SVC_)\n",
    "# Here i have created Support Vector Machine .  model on x and y train data to make predictions dependent varibale y."
   ]
  },
  {
   "cell_type": "code",
   "execution_count": 355,
   "id": "eb466f77",
   "metadata": {},
   "outputs": [
    {
     "name": "stdout",
     "output_type": "stream",
     "text": [
      "[1 1 0 1 1 1 1 0 1 1 1 1 1 1 1 1 1 1 0 1 1 1 1 1 0 1 0 1 1 1 1 1 1 1 1 1 1\n",
      " 1 1 1 1 1 1 1 1 0 1 1 1 1 1 1 1 0 1 1 1 1 1 1 0 1 0 1 1 1 0 1 1 0 1 1 1 1\n",
      " 1 1 0 0 1 1 0 1 1 1 0 1 1 1 1 1 1 1 1 1 0 1 1 1 0 1 1 1 0 1 1 1 1 1 1 1 1\n",
      " 1 1 1 1 0 1]\n"
     ]
    }
   ],
   "source": [
    "# making prediction on train data.\n",
    "y_pred_SVC_ = SVC_.predict(x_train)\n",
    "print(y_pred_SVC_)#this is prediction on status of diesase 0 repesents no and 1 says yes."
   ]
  },
  {
   "cell_type": "code",
   "execution_count": 356,
   "id": "7c3d8304",
   "metadata": {},
   "outputs": [
    {
     "name": "stdout",
     "output_type": "stream",
     "text": [
      "The accuracy on test data's predition is- 0.8632478632478633\n"
     ]
    }
   ],
   "source": [
    "#checking the accuracy for prediction\n",
    "acc = accuracy_score(y_train,y_pred_SVC_)\n",
    "print(\"The accuracy on test data's predition is-\",acc)"
   ]
  },
  {
   "cell_type": "code",
   "execution_count": 357,
   "id": "9563d9b9",
   "metadata": {},
   "outputs": [],
   "source": [
    "#here accuracy is 86% while logistic regression we are getting 84% of accuracy."
   ]
  },
  {
   "cell_type": "code",
   "execution_count": 358,
   "id": "0616bc39",
   "metadata": {},
   "outputs": [
    {
     "name": "stdout",
     "output_type": "stream",
     "text": [
      "[1 1 0 1 1 1 1 1 1 1 0 1 1 1 0 1 1 0 0 1 1 0 1 1 0 1 1 0 1 0 1 1 1 1 1 1 1\n",
      " 1 1 1 1 1 1 1 0 1 1 1 1 1 1 1 0 1 1 1 1 1 1 1 1 1 1 1 0 1 1 1 1 1 1 1 0 1\n",
      " 1 1 1 0]\n"
     ]
    }
   ],
   "source": [
    "#making prediction on test data.\n",
    "y_pred_1_SVC_ = rfc.predict(x_test)\n",
    "print(y_pred_1_SVC_)"
   ]
  },
  {
   "cell_type": "code",
   "execution_count": 359,
   "id": "b3c6be38",
   "metadata": {},
   "outputs": [
    {
     "name": "stdout",
     "output_type": "stream",
     "text": [
      "The accuracy on test data's predition is- 0.9358974358974359\n"
     ]
    }
   ],
   "source": [
    "#checking the accuracy of above prediction.\n",
    "acc_1 = accuracy_score(y_test,y_pred_1_SVC_)\n",
    "print(\"The accuracy on test data's predition is-\",acc_1)"
   ]
  },
  {
   "cell_type": "code",
   "execution_count": 360,
   "id": "1579514f",
   "metadata": {},
   "outputs": [],
   "source": [
    "#here accuracy is 94% while logistic regression we are getting 84% of accuracy."
   ]
  },
  {
   "cell_type": "code",
   "execution_count": 361,
   "id": "9fb7fbf5",
   "metadata": {},
   "outputs": [
    {
     "name": "stdout",
     "output_type": "stream",
     "text": [
      "The confusion matrix for train data of Support Vector Machine  is->\n",
      "[[17 14]\n",
      " [ 2 84]]\n",
      "The confusion matrix for test data of Support Vector Machine  is->\n",
      "[[13  4]\n",
      " [ 1 60]]\n"
     ]
    }
   ],
   "source": [
    "#Confusion amtrix.\n",
    "print(\"The confusion matrix for train data of Support Vector Machine  is->\")\n",
    "print(confusion_matrix(y_train,y_pred_SVC_))\n",
    "print(\"The confusion matrix for test data of Support Vector Machine  is->\")\n",
    "print(confusion_matrix(y_test,y_pred_1_SVC_))"
   ]
  },
  {
   "cell_type": "code",
   "execution_count": 362,
   "id": "d39dc929",
   "metadata": {},
   "outputs": [
    {
     "name": "stdout",
     "output_type": "stream",
     "text": [
      "Classsifcation report for train->\n",
      "              precision    recall  f1-score   support\n",
      "\n",
      "           0       0.89      0.55      0.68        31\n",
      "           1       0.86      0.98      0.91        86\n",
      "\n",
      "    accuracy                           0.86       117\n",
      "   macro avg       0.88      0.76      0.80       117\n",
      "weighted avg       0.87      0.86      0.85       117\n",
      "\n",
      "Classsifcation report for test->\n",
      "              precision    recall  f1-score   support\n",
      "\n",
      "           0       0.93      0.76      0.84        17\n",
      "           1       0.94      0.98      0.96        61\n",
      "\n",
      "    accuracy                           0.94        78\n",
      "   macro avg       0.93      0.87      0.90        78\n",
      "weighted avg       0.94      0.94      0.93        78\n",
      "\n"
     ]
    }
   ],
   "source": [
    "#Classification report.\n",
    "print(\"Classsifcation report for train->\")\n",
    "print(classification_report(y_train,y_pred_SVC_))\n",
    "print(\"Classsifcation report for test->\")\n",
    "print(classification_report(y_test,y_pred_1_SVC_))"
   ]
  },
  {
   "cell_type": "code",
   "execution_count": 363,
   "id": "3db6de32",
   "metadata": {},
   "outputs": [
    {
     "name": "stdout",
     "output_type": "stream",
     "text": [
      "5 / 10\n"
     ]
    }
   ],
   "source": [
    "#checking wrong predictions made.\n",
    "print((y_test!=y_pred_1_SVC_).sum(),\"/\",(y_test!=y_pred_1_SVC_).sum()+(y_test!=y_pred_1_SVC_).sum())"
   ]
  },
  {
   "cell_type": "code",
   "execution_count": 364,
   "id": "d5d50955",
   "metadata": {},
   "outputs": [],
   "source": [
    "#here 5 out 10 data are predictied wrong."
   ]
  },
  {
   "cell_type": "code",
   "execution_count": 365,
   "id": "44302f8c",
   "metadata": {},
   "outputs": [
    {
     "name": "stdout",
     "output_type": "stream",
     "text": [
      "The kappa score is:-> 0.7991761071060762\n"
     ]
    }
   ],
   "source": [
    "#Checking kappa score.\n",
    "from sklearn import metrics\n",
    "print(\"The kappa score is:->\",metrics.cohen_kappa_score(y_test,y_pred_1_SVC_))"
   ]
  },
  {
   "cell_type": "code",
   "execution_count": 366,
   "id": "e6b5216b",
   "metadata": {},
   "outputs": [],
   "source": [
    "#The degree of agreement is same as expecteed since it is close to zero."
   ]
  },
  {
   "cell_type": "code",
   "execution_count": 367,
   "id": "2b91e836",
   "metadata": {},
   "outputs": [
    {
     "data": {
      "text/html": [
       "<div>\n",
       "<style scoped>\n",
       "    .dataframe tbody tr th:only-of-type {\n",
       "        vertical-align: middle;\n",
       "    }\n",
       "\n",
       "    .dataframe tbody tr th {\n",
       "        vertical-align: top;\n",
       "    }\n",
       "\n",
       "    .dataframe thead th {\n",
       "        text-align: right;\n",
       "    }\n",
       "</style>\n",
       "<table border=\"1\" class=\"dataframe\">\n",
       "  <thead>\n",
       "    <tr style=\"text-align: right;\">\n",
       "      <th></th>\n",
       "      <th>83</th>\n",
       "      <th>12</th>\n",
       "      <th>33</th>\n",
       "      <th>113</th>\n",
       "      <th>171</th>\n",
       "      <th>134</th>\n",
       "      <th>163</th>\n",
       "      <th>124</th>\n",
       "      <th>74</th>\n",
       "      <th>18</th>\n",
       "      <th>...</th>\n",
       "      <th>86</th>\n",
       "      <th>96</th>\n",
       "      <th>183</th>\n",
       "      <th>146</th>\n",
       "      <th>192</th>\n",
       "      <th>14</th>\n",
       "      <th>27</th>\n",
       "      <th>97</th>\n",
       "      <th>156</th>\n",
       "      <th>46</th>\n",
       "    </tr>\n",
       "  </thead>\n",
       "  <tbody>\n",
       "    <tr>\n",
       "      <th>status</th>\n",
       "      <td>1.0</td>\n",
       "      <td>1.0</td>\n",
       "      <td>0.0</td>\n",
       "      <td>1.0</td>\n",
       "      <td>0.0</td>\n",
       "      <td>1.0</td>\n",
       "      <td>1.0</td>\n",
       "      <td>1.0</td>\n",
       "      <td>1.0</td>\n",
       "      <td>1.0</td>\n",
       "      <td>...</td>\n",
       "      <td>1.0</td>\n",
       "      <td>1.0</td>\n",
       "      <td>0.0</td>\n",
       "      <td>1.0</td>\n",
       "      <td>0.0</td>\n",
       "      <td>1.0</td>\n",
       "      <td>1.0</td>\n",
       "      <td>1.0</td>\n",
       "      <td>1.0</td>\n",
       "      <td>0.0</td>\n",
       "    </tr>\n",
       "    <tr>\n",
       "      <th>Unnamed 0</th>\n",
       "      <td>NaN</td>\n",
       "      <td>1.0</td>\n",
       "      <td>1.0</td>\n",
       "      <td>NaN</td>\n",
       "      <td>NaN</td>\n",
       "      <td>NaN</td>\n",
       "      <td>NaN</td>\n",
       "      <td>NaN</td>\n",
       "      <td>1.0</td>\n",
       "      <td>0.0</td>\n",
       "      <td>...</td>\n",
       "      <td>NaN</td>\n",
       "      <td>NaN</td>\n",
       "      <td>NaN</td>\n",
       "      <td>NaN</td>\n",
       "      <td>NaN</td>\n",
       "      <td>0.0</td>\n",
       "      <td>0.0</td>\n",
       "      <td>NaN</td>\n",
       "      <td>NaN</td>\n",
       "      <td>1.0</td>\n",
       "    </tr>\n",
       "  </tbody>\n",
       "</table>\n",
       "<p>2 rows × 78 columns</p>\n",
       "</div>"
      ],
      "text/plain": [
       "           83   12   33   113  171  134  163  124  74   18   ...  86   96   \\\n",
       "status     1.0  1.0  0.0  1.0  0.0  1.0  1.0  1.0  1.0  1.0  ...  1.0  1.0   \n",
       "Unnamed 0  NaN  1.0  1.0  NaN  NaN  NaN  NaN  NaN  1.0  0.0  ...  NaN  NaN   \n",
       "\n",
       "           183  146  192  14   27   97   156  46   \n",
       "status     0.0  1.0  0.0  1.0  1.0  1.0  1.0  0.0  \n",
       "Unnamed 0  NaN  NaN  NaN  0.0  0.0  NaN  NaN  1.0  \n",
       "\n",
       "[2 rows x 78 columns]"
      ]
     },
     "metadata": {},
     "output_type": "display_data"
    }
   ],
   "source": [
    "#display test and predicted value.\n",
    "display(pd.DataFrame(data=[y_test,y_pred_1_SVC_]))"
   ]
  },
  {
   "cell_type": "code",
   "execution_count": 368,
   "id": "1243b2d2",
   "metadata": {},
   "outputs": [
    {
     "data": {
      "text/html": [
       "<div>\n",
       "<style scoped>\n",
       "    .dataframe tbody tr th:only-of-type {\n",
       "        vertical-align: middle;\n",
       "    }\n",
       "\n",
       "    .dataframe tbody tr th {\n",
       "        vertical-align: top;\n",
       "    }\n",
       "\n",
       "    .dataframe thead th {\n",
       "        text-align: right;\n",
       "    }\n",
       "</style>\n",
       "<table border=\"1\" class=\"dataframe\">\n",
       "  <thead>\n",
       "    <tr style=\"text-align: right;\">\n",
       "      <th></th>\n",
       "      <th>status</th>\n",
       "      <th>Unnamed 0</th>\n",
       "    </tr>\n",
       "  </thead>\n",
       "  <tbody>\n",
       "    <tr>\n",
       "      <th>83</th>\n",
       "      <td>1.0</td>\n",
       "      <td>NaN</td>\n",
       "    </tr>\n",
       "    <tr>\n",
       "      <th>12</th>\n",
       "      <td>1.0</td>\n",
       "      <td>1.0</td>\n",
       "    </tr>\n",
       "    <tr>\n",
       "      <th>33</th>\n",
       "      <td>0.0</td>\n",
       "      <td>1.0</td>\n",
       "    </tr>\n",
       "    <tr>\n",
       "      <th>113</th>\n",
       "      <td>1.0</td>\n",
       "      <td>NaN</td>\n",
       "    </tr>\n",
       "    <tr>\n",
       "      <th>171</th>\n",
       "      <td>0.0</td>\n",
       "      <td>NaN</td>\n",
       "    </tr>\n",
       "    <tr>\n",
       "      <th>...</th>\n",
       "      <td>...</td>\n",
       "      <td>...</td>\n",
       "    </tr>\n",
       "    <tr>\n",
       "      <th>14</th>\n",
       "      <td>1.0</td>\n",
       "      <td>0.0</td>\n",
       "    </tr>\n",
       "    <tr>\n",
       "      <th>27</th>\n",
       "      <td>1.0</td>\n",
       "      <td>0.0</td>\n",
       "    </tr>\n",
       "    <tr>\n",
       "      <th>97</th>\n",
       "      <td>1.0</td>\n",
       "      <td>NaN</td>\n",
       "    </tr>\n",
       "    <tr>\n",
       "      <th>156</th>\n",
       "      <td>1.0</td>\n",
       "      <td>NaN</td>\n",
       "    </tr>\n",
       "    <tr>\n",
       "      <th>46</th>\n",
       "      <td>0.0</td>\n",
       "      <td>1.0</td>\n",
       "    </tr>\n",
       "  </tbody>\n",
       "</table>\n",
       "<p>78 rows × 2 columns</p>\n",
       "</div>"
      ],
      "text/plain": [
       "     status  Unnamed 0\n",
       "83      1.0        NaN\n",
       "12      1.0        1.0\n",
       "33      0.0        1.0\n",
       "113     1.0        NaN\n",
       "171     0.0        NaN\n",
       "..      ...        ...\n",
       "14      1.0        0.0\n",
       "27      1.0        0.0\n",
       "97      1.0        NaN\n",
       "156     1.0        NaN\n",
       "46      0.0        1.0\n",
       "\n",
       "[78 rows x 2 columns]"
      ]
     },
     "metadata": {},
     "output_type": "display_data"
    }
   ],
   "source": [
    "#display test and predicted value's transpose.\n",
    "display(pd.DataFrame(data=[y_test,y_pred_1_SVC_]).T)"
   ]
  },
  {
   "cell_type": "code",
   "execution_count": 4,
   "id": "0b64fb8f",
   "metadata": {},
   "outputs": [
    {
     "ename": "NameError",
     "evalue": "name 'SVC_' is not defined",
     "output_type": "error",
     "traceback": [
      "\u001b[1;31m---------------------------------------------------------------------------\u001b[0m",
      "\u001b[1;31mNameError\u001b[0m                                 Traceback (most recent call last)",
      "Cell \u001b[1;32mIn[4], line 3\u001b[0m\n\u001b[0;32m      1\u001b[0m \u001b[38;5;28;01mimport\u001b[39;00m \u001b[38;5;21;01mpickle\u001b[39;00m \n\u001b[0;32m      2\u001b[0m \u001b[38;5;66;03m# Saving model to disk\u001b[39;00m\n\u001b[1;32m----> 3\u001b[0m pickle\u001b[38;5;241m.\u001b[39mdump(SVC_,\u001b[38;5;28mopen\u001b[39m(\u001b[38;5;124m'\u001b[39m\u001b[38;5;124mdeploy_SVM.pkl\u001b[39m\u001b[38;5;124m'\u001b[39m,\u001b[38;5;124m'\u001b[39m\u001b[38;5;124mwb\u001b[39m\u001b[38;5;124m'\u001b[39m))\n\u001b[0;32m      4\u001b[0m \u001b[38;5;66;03m# Open the Pickle File \u001b[39;00m\n\u001b[0;32m      5\u001b[0m model\u001b[38;5;241m=\u001b[39mpickle\u001b[38;5;241m.\u001b[39mload(\u001b[38;5;28mopen\u001b[39m(\u001b[38;5;124m'\u001b[39m\u001b[38;5;124mdeploy_SVM.pkl\u001b[39m\u001b[38;5;124m'\u001b[39m,\u001b[38;5;124m'\u001b[39m\u001b[38;5;124mrb\u001b[39m\u001b[38;5;124m'\u001b[39m))\n",
      "\u001b[1;31mNameError\u001b[0m: name 'SVC_' is not defined"
     ]
    }
   ],
   "source": [
    "import pickle \n",
    "# Saving model to disk\n",
    "pickle.dump(SVC_,open('deploy_SVM.pkl','wb'))\n",
    "# Open the Pickle File \n",
    "model=pickle.load(open('deploy_SVM.pkl','rb'))\n",
    "# Prediction \n",
    "print (model.predict (x_train))\n",
    "\n"
   ]
  },
  {
   "cell_type": "code",
   "execution_count": null,
   "id": "451ad4c7",
   "metadata": {},
   "outputs": [],
   "source": []
  },
  {
   "cell_type": "code",
   "execution_count": null,
   "id": "43a03187",
   "metadata": {},
   "outputs": [],
   "source": []
  }
 ],
 "metadata": {
  "kernelspec": {
   "display_name": "Python 3 (ipykernel)",
   "language": "python",
   "name": "python3"
  },
  "language_info": {
   "codemirror_mode": {
    "name": "ipython",
    "version": 3
   },
   "file_extension": ".py",
   "mimetype": "text/x-python",
   "name": "python",
   "nbconvert_exporter": "python",
   "pygments_lexer": "ipython3",
   "version": "3.11.5"
  }
 },
 "nbformat": 4,
 "nbformat_minor": 5
}
