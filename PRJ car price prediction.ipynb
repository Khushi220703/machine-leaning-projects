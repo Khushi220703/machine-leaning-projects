{
 "cells": [
  {
   "cell_type": "code",
   "execution_count": 41,
   "id": "228111d1",
   "metadata": {},
   "outputs": [
    {
     "data": {
      "text/plain": [
       "'C:\\\\Users\\\\khush\\\\OneDrive\\\\Documents'"
      ]
     },
     "execution_count": 41,
     "metadata": {},
     "output_type": "execute_result"
    }
   ],
   "source": [
    "import pandas as pd\n",
    "import numpy as np\n",
    "import matplotlib.pyplot as pyplot\n",
    "import os\n",
    "import warnings\n",
    "warnings.filterwarnings('ignore')\n",
    "\n",
    "os.chdir(\"C:\\\\Users\\\\khush\\\\OneDrive\\\\Documents\\\\\")\n",
    "os.getcwd()"
   ]
  },
  {
   "cell_type": "code",
   "execution_count": 42,
   "id": "7ea79360",
   "metadata": {},
   "outputs": [
    {
     "name": "stdout",
     "output_type": "stream",
     "text": [
      "      model  year  price transmission  mileage fuelType  tax   mpg  engineSize\n",
      "0        A1  2017  12500       Manual    15735   Petrol  150  55.4         1.4\n",
      "1        A6  2016  16500    Automatic    36203   Diesel   20  64.2         2.0\n",
      "2        A1  2016  11000       Manual    29946   Petrol   30  55.4         1.4\n",
      "3        A4  2017  16800    Automatic    25952   Diesel  145  67.3         2.0\n",
      "4        A3  2019  17300       Manual     1998   Petrol  145  49.6         1.0\n",
      "...     ...   ...    ...          ...      ...      ...  ...   ...         ...\n",
      "10663    A3  2020  16999       Manual     4018   Petrol  145  49.6         1.0\n",
      "10664    A3  2020  16999       Manual     1978   Petrol  150  49.6         1.0\n",
      "10665    A3  2020  17199       Manual      609   Petrol  150  49.6         1.0\n",
      "10666    Q3  2017  19499    Automatic     8646   Petrol  150  47.9         1.4\n",
      "10667    Q3  2016  15999       Manual    11855   Petrol  150  47.9         1.4\n",
      "\n",
      "[10668 rows x 9 columns]\n"
     ]
    }
   ],
   "source": [
    "readFile = pd.read_csv(\"audi.csv\")\n",
    "print(readFile)"
   ]
  },
  {
   "cell_type": "code",
   "execution_count": 43,
   "id": "c71c1da4",
   "metadata": {},
   "outputs": [
    {
     "data": {
      "text/plain": [
       "10668"
      ]
     },
     "metadata": {},
     "output_type": "display_data"
    }
   ],
   "source": [
    "# Data analysis manually.\n",
    "display(len(readFile))# length of data(tottal number of columns)"
   ]
  },
  {
   "cell_type": "code",
   "execution_count": 44,
   "id": "f0aba7ca",
   "metadata": {},
   "outputs": [
    {
     "data": {
      "text/plain": [
       "(10668, 9)"
      ]
     },
     "metadata": {},
     "output_type": "display_data"
    }
   ],
   "source": [
    "display(readFile.shape)# total 10688 rows and 9 columns."
   ]
  },
  {
   "cell_type": "code",
   "execution_count": 45,
   "id": "717cb0c5",
   "metadata": {},
   "outputs": [
    {
     "name": "stdout",
     "output_type": "stream",
     "text": [
      "model            object\n",
      "year              int64\n",
      "price             int64\n",
      "transmission     object\n",
      "mileage           int64\n",
      "fuelType         object\n",
      "tax               int64\n",
      "mpg             float64\n",
      "engineSize      float64\n",
      "dtype: object\n"
     ]
    }
   ],
   "source": [
    "print(readFile.dtypes)# type of all columns."
   ]
  },
  {
   "cell_type": "code",
   "execution_count": 46,
   "id": "fa5e3597",
   "metadata": {},
   "outputs": [
    {
     "name": "stdout",
     "output_type": "stream",
     "text": [
      "model           0\n",
      "year            0\n",
      "price           0\n",
      "transmission    0\n",
      "mileage         0\n",
      "fuelType        0\n",
      "tax             0\n",
      "mpg             0\n",
      "engineSize      0\n",
      "dtype: int64\n"
     ]
    }
   ],
   "source": [
    "print(readFile.isna().sum())#as there is no null values hence it returns zero."
   ]
  },
  {
   "cell_type": "code",
   "execution_count": 47,
   "id": "10d1461a",
   "metadata": {},
   "outputs": [
    {
     "name": "stdout",
     "output_type": "stream",
     "text": [
      "<class 'pandas.core.frame.DataFrame'>\n",
      "RangeIndex: 10668 entries, 0 to 10667\n",
      "Data columns (total 9 columns):\n",
      " #   Column        Non-Null Count  Dtype  \n",
      "---  ------        --------------  -----  \n",
      " 0   model         10668 non-null  object \n",
      " 1   year          10668 non-null  int64  \n",
      " 2   price         10668 non-null  int64  \n",
      " 3   transmission  10668 non-null  object \n",
      " 4   mileage       10668 non-null  int64  \n",
      " 5   fuelType      10668 non-null  object \n",
      " 6   tax           10668 non-null  int64  \n",
      " 7   mpg           10668 non-null  float64\n",
      " 8   engineSize    10668 non-null  float64\n",
      "dtypes: float64(2), int64(4), object(3)\n",
      "memory usage: 750.2+ KB\n",
      "None\n"
     ]
    }
   ],
   "source": [
    "print(readFile.info())# return some info about rows info like number of non null rows in column and data type."
   ]
  },
  {
   "cell_type": "code",
   "execution_count": 48,
   "id": "546ef060",
   "metadata": {},
   "outputs": [
    {
     "name": "stdout",
     "output_type": "stream",
     "text": [
      "               year          price        mileage           tax           mpg  \\\n",
      "count  10668.000000   10668.000000   10668.000000  10668.000000  10668.000000   \n",
      "mean    2017.100675   22896.685039   24827.244001    126.011436     50.770022   \n",
      "std        2.167494   11714.841888   23505.257205     67.170294     12.949782   \n",
      "min     1997.000000    1490.000000       1.000000      0.000000     18.900000   \n",
      "25%     2016.000000   15130.750000    5968.750000    125.000000     40.900000   \n",
      "50%     2017.000000   20200.000000   19000.000000    145.000000     49.600000   \n",
      "75%     2019.000000   27990.000000   36464.500000    145.000000     58.900000   \n",
      "max     2020.000000  145000.000000  323000.000000    580.000000    188.300000   \n",
      "\n",
      "         engineSize  \n",
      "count  10668.000000  \n",
      "mean       1.930709  \n",
      "std        0.602957  \n",
      "min        0.000000  \n",
      "25%        1.500000  \n",
      "50%        2.000000  \n",
      "75%        2.000000  \n",
      "max        6.300000  \n"
     ]
    }
   ],
   "source": [
    "print(readFile.describe())#it give description about all numerical column.description about count,mean,min,max,25%..etc."
   ]
  },
  {
   "cell_type": "code",
   "execution_count": 49,
   "id": "c5f91f85",
   "metadata": {},
   "outputs": [
    {
     "data": {
      "text/plain": [
       "array([[' A1', 2017, 'Manual', ..., 150, 55.4, 1.4],\n",
       "       [' A6', 2016, 'Automatic', ..., 20, 64.2, 2.0],\n",
       "       [' A1', 2016, 'Manual', ..., 30, 55.4, 1.4],\n",
       "       ...,\n",
       "       [' A3', 2020, 'Manual', ..., 150, 49.6, 1.0],\n",
       "       [' Q3', 2017, 'Automatic', ..., 150, 47.9, 1.4],\n",
       "       [' Q3', 2016, 'Manual', ..., 150, 47.9, 1.4]], dtype=object)"
      ]
     },
     "metadata": {},
     "output_type": "display_data"
    }
   ],
   "source": [
    "#now we divide our dataframe into dependent and independent variable.\n",
    "x = readFile.iloc[:,[0,1,3,4,5,6,7,8]].values#independepent variable\n",
    "display(x)"
   ]
  },
  {
   "cell_type": "code",
   "execution_count": 50,
   "id": "6b13bd68",
   "metadata": {},
   "outputs": [
    {
     "data": {
      "text/plain": [
       "array([[12500],\n",
       "       [16500],\n",
       "       [11000],\n",
       "       ...,\n",
       "       [17199],\n",
       "       [19499],\n",
       "       [15999]], dtype=int64)"
      ]
     },
     "metadata": {},
     "output_type": "display_data"
    }
   ],
   "source": [
    "y = readFile.iloc[:,[2]].values#dependent variable.\n",
    "display(y)"
   ]
  },
  {
   "cell_type": "code",
   "execution_count": 51,
   "id": "647c21e5",
   "metadata": {},
   "outputs": [
    {
     "data": {
      "text/plain": [
       "array([[0, 2017, 'Manual', ..., 150, 55.4, 1.4],\n",
       "       [5, 2016, 'Automatic', ..., 20, 64.2, 2.0],\n",
       "       [0, 2016, 'Manual', ..., 30, 55.4, 1.4],\n",
       "       ...,\n",
       "       [2, 2020, 'Manual', ..., 150, 49.6, 1.0],\n",
       "       [9, 2017, 'Automatic', ..., 150, 47.9, 1.4],\n",
       "       [9, 2016, 'Manual', ..., 150, 47.9, 1.4]], dtype=object)"
      ]
     },
     "metadata": {},
     "output_type": "display_data"
    }
   ],
   "source": [
    "# Since transmission,model and fuel type columns values are string type i will do label and one hot encoding.\n",
    "\n",
    "from sklearn.preprocessing import LabelEncoder # here we have done label encoding in model and fuel type column only as model \n",
    "#have various variation and if we do oneHotEncoding various new column generated.\n",
    "le_1 = LabelEncoder()\n",
    "le_2 = LabelEncoder()\n",
    "x[:,0] = le_1.fit_transform(x[:,0])\n",
    "x[:,-4] = le_2.fit_transform(x[:,-4])\n",
    "display(x)"
   ]
  },
  {
   "cell_type": "code",
   "execution_count": 52,
   "id": "b123835b",
   "metadata": {},
   "outputs": [
    {
     "data": {
      "text/html": [
       "<div>\n",
       "<style scoped>\n",
       "    .dataframe tbody tr th:only-of-type {\n",
       "        vertical-align: middle;\n",
       "    }\n",
       "\n",
       "    .dataframe tbody tr th {\n",
       "        vertical-align: top;\n",
       "    }\n",
       "\n",
       "    .dataframe thead th {\n",
       "        text-align: right;\n",
       "    }\n",
       "</style>\n",
       "<table border=\"1\" class=\"dataframe\">\n",
       "  <thead>\n",
       "    <tr style=\"text-align: right;\">\n",
       "      <th></th>\n",
       "      <th>0</th>\n",
       "      <th>1</th>\n",
       "      <th>2</th>\n",
       "      <th>3</th>\n",
       "      <th>4</th>\n",
       "      <th>5</th>\n",
       "      <th>6</th>\n",
       "      <th>7</th>\n",
       "      <th>8</th>\n",
       "      <th>9</th>\n",
       "    </tr>\n",
       "  </thead>\n",
       "  <tbody>\n",
       "    <tr>\n",
       "      <th>0</th>\n",
       "      <td>0.0</td>\n",
       "      <td>1.0</td>\n",
       "      <td>0.0</td>\n",
       "      <td>0</td>\n",
       "      <td>2017</td>\n",
       "      <td>15735</td>\n",
       "      <td>2</td>\n",
       "      <td>150</td>\n",
       "      <td>55.4</td>\n",
       "      <td>1.4</td>\n",
       "    </tr>\n",
       "    <tr>\n",
       "      <th>1</th>\n",
       "      <td>1.0</td>\n",
       "      <td>0.0</td>\n",
       "      <td>0.0</td>\n",
       "      <td>5</td>\n",
       "      <td>2016</td>\n",
       "      <td>36203</td>\n",
       "      <td>0</td>\n",
       "      <td>20</td>\n",
       "      <td>64.2</td>\n",
       "      <td>2.0</td>\n",
       "    </tr>\n",
       "    <tr>\n",
       "      <th>2</th>\n",
       "      <td>0.0</td>\n",
       "      <td>1.0</td>\n",
       "      <td>0.0</td>\n",
       "      <td>0</td>\n",
       "      <td>2016</td>\n",
       "      <td>29946</td>\n",
       "      <td>2</td>\n",
       "      <td>30</td>\n",
       "      <td>55.4</td>\n",
       "      <td>1.4</td>\n",
       "    </tr>\n",
       "    <tr>\n",
       "      <th>3</th>\n",
       "      <td>1.0</td>\n",
       "      <td>0.0</td>\n",
       "      <td>0.0</td>\n",
       "      <td>3</td>\n",
       "      <td>2017</td>\n",
       "      <td>25952</td>\n",
       "      <td>0</td>\n",
       "      <td>145</td>\n",
       "      <td>67.3</td>\n",
       "      <td>2.0</td>\n",
       "    </tr>\n",
       "    <tr>\n",
       "      <th>4</th>\n",
       "      <td>0.0</td>\n",
       "      <td>1.0</td>\n",
       "      <td>0.0</td>\n",
       "      <td>2</td>\n",
       "      <td>2019</td>\n",
       "      <td>1998</td>\n",
       "      <td>2</td>\n",
       "      <td>145</td>\n",
       "      <td>49.6</td>\n",
       "      <td>1.0</td>\n",
       "    </tr>\n",
       "    <tr>\n",
       "      <th>...</th>\n",
       "      <td>...</td>\n",
       "      <td>...</td>\n",
       "      <td>...</td>\n",
       "      <td>...</td>\n",
       "      <td>...</td>\n",
       "      <td>...</td>\n",
       "      <td>...</td>\n",
       "      <td>...</td>\n",
       "      <td>...</td>\n",
       "      <td>...</td>\n",
       "    </tr>\n",
       "    <tr>\n",
       "      <th>10663</th>\n",
       "      <td>0.0</td>\n",
       "      <td>1.0</td>\n",
       "      <td>0.0</td>\n",
       "      <td>2</td>\n",
       "      <td>2020</td>\n",
       "      <td>4018</td>\n",
       "      <td>2</td>\n",
       "      <td>145</td>\n",
       "      <td>49.6</td>\n",
       "      <td>1.0</td>\n",
       "    </tr>\n",
       "    <tr>\n",
       "      <th>10664</th>\n",
       "      <td>0.0</td>\n",
       "      <td>1.0</td>\n",
       "      <td>0.0</td>\n",
       "      <td>2</td>\n",
       "      <td>2020</td>\n",
       "      <td>1978</td>\n",
       "      <td>2</td>\n",
       "      <td>150</td>\n",
       "      <td>49.6</td>\n",
       "      <td>1.0</td>\n",
       "    </tr>\n",
       "    <tr>\n",
       "      <th>10665</th>\n",
       "      <td>0.0</td>\n",
       "      <td>1.0</td>\n",
       "      <td>0.0</td>\n",
       "      <td>2</td>\n",
       "      <td>2020</td>\n",
       "      <td>609</td>\n",
       "      <td>2</td>\n",
       "      <td>150</td>\n",
       "      <td>49.6</td>\n",
       "      <td>1.0</td>\n",
       "    </tr>\n",
       "    <tr>\n",
       "      <th>10666</th>\n",
       "      <td>1.0</td>\n",
       "      <td>0.0</td>\n",
       "      <td>0.0</td>\n",
       "      <td>9</td>\n",
       "      <td>2017</td>\n",
       "      <td>8646</td>\n",
       "      <td>2</td>\n",
       "      <td>150</td>\n",
       "      <td>47.9</td>\n",
       "      <td>1.4</td>\n",
       "    </tr>\n",
       "    <tr>\n",
       "      <th>10667</th>\n",
       "      <td>0.0</td>\n",
       "      <td>1.0</td>\n",
       "      <td>0.0</td>\n",
       "      <td>9</td>\n",
       "      <td>2016</td>\n",
       "      <td>11855</td>\n",
       "      <td>2</td>\n",
       "      <td>150</td>\n",
       "      <td>47.9</td>\n",
       "      <td>1.4</td>\n",
       "    </tr>\n",
       "  </tbody>\n",
       "</table>\n",
       "<p>10668 rows × 10 columns</p>\n",
       "</div>"
      ],
      "text/plain": [
       "         0    1    2  3     4      5  6    7     8    9\n",
       "0      0.0  1.0  0.0  0  2017  15735  2  150  55.4  1.4\n",
       "1      1.0  0.0  0.0  5  2016  36203  0   20  64.2  2.0\n",
       "2      0.0  1.0  0.0  0  2016  29946  2   30  55.4  1.4\n",
       "3      1.0  0.0  0.0  3  2017  25952  0  145  67.3  2.0\n",
       "4      0.0  1.0  0.0  2  2019   1998  2  145  49.6  1.0\n",
       "...    ...  ...  ... ..   ...    ... ..  ...   ...  ...\n",
       "10663  0.0  1.0  0.0  2  2020   4018  2  145  49.6  1.0\n",
       "10664  0.0  1.0  0.0  2  2020   1978  2  150  49.6  1.0\n",
       "10665  0.0  1.0  0.0  2  2020    609  2  150  49.6  1.0\n",
       "10666  1.0  0.0  0.0  9  2017   8646  2  150  47.9  1.4\n",
       "10667  0.0  1.0  0.0  9  2016  11855  2  150  47.9  1.4\n",
       "\n",
       "[10668 rows x 10 columns]"
      ]
     },
     "metadata": {},
     "output_type": "display_data"
    }
   ],
   "source": [
    "# one hot encoding on transmission type.\n",
    "from sklearn.preprocessing import OneHotEncoder\n",
    "from sklearn.compose import ColumnTransformer\n",
    "\n",
    "OHE = ColumnTransformer(transformers=[(\"encoder\",OneHotEncoder(),[2])],remainder=\"passthrough\")\n",
    "x = OHE.fit_transform(x)\n",
    "display(pd.DataFrame(x))"
   ]
  },
  {
   "cell_type": "code",
   "execution_count": 53,
   "id": "5e50fded",
   "metadata": {},
   "outputs": [
    {
     "data": {
      "text/html": [
       "<div>\n",
       "<style scoped>\n",
       "    .dataframe tbody tr th:only-of-type {\n",
       "        vertical-align: middle;\n",
       "    }\n",
       "\n",
       "    .dataframe tbody tr th {\n",
       "        vertical-align: top;\n",
       "    }\n",
       "\n",
       "    .dataframe thead th {\n",
       "        text-align: right;\n",
       "    }\n",
       "</style>\n",
       "<table border=\"1\" class=\"dataframe\">\n",
       "  <thead>\n",
       "    <tr style=\"text-align: right;\">\n",
       "      <th></th>\n",
       "      <th>0</th>\n",
       "      <th>1</th>\n",
       "      <th>2</th>\n",
       "      <th>3</th>\n",
       "      <th>4</th>\n",
       "      <th>5</th>\n",
       "      <th>6</th>\n",
       "      <th>7</th>\n",
       "      <th>8</th>\n",
       "      <th>9</th>\n",
       "    </tr>\n",
       "  </thead>\n",
       "  <tbody>\n",
       "    <tr>\n",
       "      <th>0</th>\n",
       "      <td>-0.583268</td>\n",
       "      <td>1.200728</td>\n",
       "      <td>-0.712333</td>\n",
       "      <td>-1.123544</td>\n",
       "      <td>-0.046450</td>\n",
       "      <td>-0.386836</td>\n",
       "      <td>1.050783</td>\n",
       "      <td>0.357147</td>\n",
       "      <td>0.357550</td>\n",
       "      <td>-0.880218</td>\n",
       "    </tr>\n",
       "    <tr>\n",
       "      <th>1</th>\n",
       "      <td>1.714479</td>\n",
       "      <td>-0.832828</td>\n",
       "      <td>-0.712333</td>\n",
       "      <td>-0.160831</td>\n",
       "      <td>-0.507834</td>\n",
       "      <td>0.483989</td>\n",
       "      <td>-0.954181</td>\n",
       "      <td>-1.578323</td>\n",
       "      <td>1.037130</td>\n",
       "      <td>0.114925</td>\n",
       "    </tr>\n",
       "    <tr>\n",
       "      <th>2</th>\n",
       "      <td>-0.583268</td>\n",
       "      <td>1.200728</td>\n",
       "      <td>-0.712333</td>\n",
       "      <td>-1.123544</td>\n",
       "      <td>-0.507834</td>\n",
       "      <td>0.217781</td>\n",
       "      <td>1.050783</td>\n",
       "      <td>-1.429440</td>\n",
       "      <td>0.357550</td>\n",
       "      <td>-0.880218</td>\n",
       "    </tr>\n",
       "    <tr>\n",
       "      <th>3</th>\n",
       "      <td>1.714479</td>\n",
       "      <td>-0.832828</td>\n",
       "      <td>-0.712333</td>\n",
       "      <td>-0.545916</td>\n",
       "      <td>-0.046450</td>\n",
       "      <td>0.047853</td>\n",
       "      <td>-0.954181</td>\n",
       "      <td>0.282706</td>\n",
       "      <td>1.276528</td>\n",
       "      <td>0.114925</td>\n",
       "    </tr>\n",
       "    <tr>\n",
       "      <th>4</th>\n",
       "      <td>-0.583268</td>\n",
       "      <td>1.200728</td>\n",
       "      <td>-0.712333</td>\n",
       "      <td>-0.738459</td>\n",
       "      <td>0.876318</td>\n",
       "      <td>-0.971285</td>\n",
       "      <td>1.050783</td>\n",
       "      <td>0.282706</td>\n",
       "      <td>-0.090355</td>\n",
       "      <td>-1.543647</td>\n",
       "    </tr>\n",
       "    <tr>\n",
       "      <th>...</th>\n",
       "      <td>...</td>\n",
       "      <td>...</td>\n",
       "      <td>...</td>\n",
       "      <td>...</td>\n",
       "      <td>...</td>\n",
       "      <td>...</td>\n",
       "      <td>...</td>\n",
       "      <td>...</td>\n",
       "      <td>...</td>\n",
       "      <td>...</td>\n",
       "    </tr>\n",
       "    <tr>\n",
       "      <th>10663</th>\n",
       "      <td>-0.583268</td>\n",
       "      <td>1.200728</td>\n",
       "      <td>-0.712333</td>\n",
       "      <td>-0.738459</td>\n",
       "      <td>1.337702</td>\n",
       "      <td>-0.885343</td>\n",
       "      <td>1.050783</td>\n",
       "      <td>0.282706</td>\n",
       "      <td>-0.090355</td>\n",
       "      <td>-1.543647</td>\n",
       "    </tr>\n",
       "    <tr>\n",
       "      <th>10664</th>\n",
       "      <td>-0.583268</td>\n",
       "      <td>1.200728</td>\n",
       "      <td>-0.712333</td>\n",
       "      <td>-0.738459</td>\n",
       "      <td>1.337702</td>\n",
       "      <td>-0.972136</td>\n",
       "      <td>1.050783</td>\n",
       "      <td>0.357147</td>\n",
       "      <td>-0.090355</td>\n",
       "      <td>-1.543647</td>\n",
       "    </tr>\n",
       "    <tr>\n",
       "      <th>10665</th>\n",
       "      <td>-0.583268</td>\n",
       "      <td>1.200728</td>\n",
       "      <td>-0.712333</td>\n",
       "      <td>-0.738459</td>\n",
       "      <td>1.337702</td>\n",
       "      <td>-1.030381</td>\n",
       "      <td>1.050783</td>\n",
       "      <td>0.357147</td>\n",
       "      <td>-0.090355</td>\n",
       "      <td>-1.543647</td>\n",
       "    </tr>\n",
       "    <tr>\n",
       "      <th>10666</th>\n",
       "      <td>1.714479</td>\n",
       "      <td>-0.832828</td>\n",
       "      <td>-0.712333</td>\n",
       "      <td>0.609339</td>\n",
       "      <td>-0.046450</td>\n",
       "      <td>-0.688442</td>\n",
       "      <td>1.050783</td>\n",
       "      <td>0.357147</td>\n",
       "      <td>-0.221637</td>\n",
       "      <td>-0.880218</td>\n",
       "    </tr>\n",
       "    <tr>\n",
       "      <th>10667</th>\n",
       "      <td>-0.583268</td>\n",
       "      <td>1.200728</td>\n",
       "      <td>-0.712333</td>\n",
       "      <td>0.609339</td>\n",
       "      <td>-0.507834</td>\n",
       "      <td>-0.551913</td>\n",
       "      <td>1.050783</td>\n",
       "      <td>0.357147</td>\n",
       "      <td>-0.221637</td>\n",
       "      <td>-0.880218</td>\n",
       "    </tr>\n",
       "  </tbody>\n",
       "</table>\n",
       "<p>10668 rows × 10 columns</p>\n",
       "</div>"
      ],
      "text/plain": [
       "              0         1         2         3         4         5         6  \\\n",
       "0     -0.583268  1.200728 -0.712333 -1.123544 -0.046450 -0.386836  1.050783   \n",
       "1      1.714479 -0.832828 -0.712333 -0.160831 -0.507834  0.483989 -0.954181   \n",
       "2     -0.583268  1.200728 -0.712333 -1.123544 -0.507834  0.217781  1.050783   \n",
       "3      1.714479 -0.832828 -0.712333 -0.545916 -0.046450  0.047853 -0.954181   \n",
       "4     -0.583268  1.200728 -0.712333 -0.738459  0.876318 -0.971285  1.050783   \n",
       "...         ...       ...       ...       ...       ...       ...       ...   \n",
       "10663 -0.583268  1.200728 -0.712333 -0.738459  1.337702 -0.885343  1.050783   \n",
       "10664 -0.583268  1.200728 -0.712333 -0.738459  1.337702 -0.972136  1.050783   \n",
       "10665 -0.583268  1.200728 -0.712333 -0.738459  1.337702 -1.030381  1.050783   \n",
       "10666  1.714479 -0.832828 -0.712333  0.609339 -0.046450 -0.688442  1.050783   \n",
       "10667 -0.583268  1.200728 -0.712333  0.609339 -0.507834 -0.551913  1.050783   \n",
       "\n",
       "              7         8         9  \n",
       "0      0.357147  0.357550 -0.880218  \n",
       "1     -1.578323  1.037130  0.114925  \n",
       "2     -1.429440  0.357550 -0.880218  \n",
       "3      0.282706  1.276528  0.114925  \n",
       "4      0.282706 -0.090355 -1.543647  \n",
       "...         ...       ...       ...  \n",
       "10663  0.282706 -0.090355 -1.543647  \n",
       "10664  0.357147 -0.090355 -1.543647  \n",
       "10665  0.357147 -0.090355 -1.543647  \n",
       "10666  0.357147 -0.221637 -0.880218  \n",
       "10667  0.357147 -0.221637 -0.880218  \n",
       "\n",
       "[10668 rows x 10 columns]"
      ]
     },
     "metadata": {},
     "output_type": "display_data"
    }
   ],
   "source": [
    "from sklearn.preprocessing import StandardScaler\n",
    "\n",
    "st_sc = StandardScaler()\n",
    "x = st_sc.fit_transform(x)\n",
    "display(pd.DataFrame(x))"
   ]
  },
  {
   "cell_type": "code",
   "execution_count": 54,
   "id": "9ac46774",
   "metadata": {},
   "outputs": [
    {
     "name": "stdout",
     "output_type": "stream",
     "text": [
      "The number of rows and column in x\n",
      "(10668, 10)\n",
      "The number of rows and column in y\n",
      "(10668, 1)\n",
      "The number of rows and column in x_train\n",
      "(7467, 10)\n",
      "The number of rows and column in y_train\n",
      "(7467, 1)\n",
      "The number of rows and column in x_test\n",
      "(3201, 10)\n",
      "The number of rows and column in y_test\n",
      "(3201, 1)\n"
     ]
    }
   ],
   "source": [
    "# spit  the data set into 2 parts test and train part.\n",
    "from sklearn.model_selection import train_test_split\n",
    "\n",
    "x_train,x_test,y_train,y_test = train_test_split(x,y,test_size=0.3)\n",
    "print(\"The number of rows and column in x\")\n",
    "print(x.shape)\n",
    "print(\"The number of rows and column in y\")\n",
    "print(y.shape)\n",
    "print(\"The number of rows and column in x_train\")\n",
    "print(x_train.shape)\n",
    "print(\"The number of rows and column in y_train\")\n",
    "print(y_train.shape)\n",
    "print(\"The number of rows and column in x_test\")\n",
    "print(x_test.shape)\n",
    "print(\"The number of rows and column in y_test\")\n",
    "print(y_test.shape)"
   ]
  },
  {
   "cell_type": "code",
   "execution_count": 55,
   "id": "b75e061d",
   "metadata": {},
   "outputs": [
    {
     "name": "stdout",
     "output_type": "stream",
     "text": [
      "RandomForestRegressor()\n"
     ]
    }
   ],
   "source": [
    "# now I make various models and predict price using them on \"x\" and make pridiction for \"y\" \n",
    "#which is price of cars and than we check the accuracy of the prediction.\n",
    "\n",
    "# 1st is Random forest regressor.\n",
    "\n",
    "from sklearn.ensemble import RandomForestRegressor\n",
    "\n",
    "RFR =  RandomForestRegressor()\n",
    "RFR.fit(x_train,y_train)\n",
    "print(RFR)"
   ]
  },
  {
   "cell_type": "code",
   "execution_count": 56,
   "id": "282d1f7b",
   "metadata": {},
   "outputs": [
    {
     "name": "stdout",
     "output_type": "stream",
     "text": [
      "[42138.53 17344.23 23051.55 ... 34338.03 10478.65 16418.97]\n"
     ]
    }
   ],
   "source": [
    "# Now make prediction with test data.\n",
    "y_pred = RFR.predict(x_test)\n",
    "print(y_pred)"
   ]
  },
  {
   "cell_type": "code",
   "execution_count": 57,
   "id": "09fcd4d4",
   "metadata": {},
   "outputs": [
    {
     "name": "stdout",
     "output_type": "stream",
     "text": [
      "      model  year  price transmission  mileage fuelType  tax   mpg  \\\n",
      "0        A1  2017  12500       Manual    15735   Petrol  150  55.4   \n",
      "1        A6  2016  16500    Automatic    36203   Diesel   20  64.2   \n",
      "2        A1  2016  11000       Manual    29946   Petrol   30  55.4   \n",
      "3        A4  2017  16800    Automatic    25952   Diesel  145  67.3   \n",
      "4        A3  2019  17300       Manual     1998   Petrol  145  49.6   \n",
      "...     ...   ...    ...          ...      ...      ...  ...   ...   \n",
      "10663    A3  2020  16999       Manual     4018   Petrol  145  49.6   \n",
      "10664    A3  2020  16999       Manual     1978   Petrol  150  49.6   \n",
      "10665    A3  2020  17199       Manual      609   Petrol  150  49.6   \n",
      "10666    Q3  2017  19499    Automatic     8646   Petrol  150  47.9   \n",
      "10667    Q3  2016  15999       Manual    11855   Petrol  150  47.9   \n",
      "\n",
      "       engineSize  Predicted price  \n",
      "0             1.4         42138.53  \n",
      "1             2.0         17344.23  \n",
      "2             1.4         23051.55  \n",
      "3             2.0         20623.21  \n",
      "4             1.0         16646.43  \n",
      "...           ...              ...  \n",
      "10663         1.0              NaN  \n",
      "10664         1.0              NaN  \n",
      "10665         1.0              NaN  \n",
      "10666         1.4              NaN  \n",
      "10667         1.4              NaN  \n",
      "\n",
      "[10668 rows x 10 columns]\n"
     ]
    }
   ],
   "source": [
    "#Here we display actual and predicted price in a single dataFrame.\n",
    "result = pd.concat([readFile,pd.DataFrame(y_pred,columns=[\"Predicted price\"])],axis=1)\n",
    "print(result)"
   ]
  },
  {
   "cell_type": "code",
   "execution_count": 58,
   "id": "a58a5e70",
   "metadata": {},
   "outputs": [
    {
     "name": "stdout",
     "output_type": "stream",
     "text": [
      "The accuracy of the prediction is 0.9589242178910091\n",
      "The mean error is 1530.0768898961003\n"
     ]
    }
   ],
   "source": [
    "\n",
    "from sklearn.metrics import r2_score , mean_absolute_error\n",
    "print(\"The accuracy of the prediction is\",r2_score(y_test,y_pred))\n",
    "print(\"The mean error is\", mean_absolute_error(y_test,y_pred))"
   ]
  },
  {
   "cell_type": "code",
   "execution_count": 59,
   "id": "336652c4",
   "metadata": {},
   "outputs": [
    {
     "name": "stdout",
     "output_type": "stream",
     "text": [
      "LinearRegression()\n"
     ]
    }
   ],
   "source": [
    "#Now we use Linear Regression model.\n",
    "\n",
    "from sklearn.linear_model import LinearRegression\n",
    "\n",
    "LR =   LinearRegression()\n",
    "LR.fit(x_train,y_train)\n",
    "print(LR)"
   ]
  },
  {
   "cell_type": "code",
   "execution_count": 60,
   "id": "b5f28405",
   "metadata": {},
   "outputs": [
    {
     "name": "stdout",
     "output_type": "stream",
     "text": [
      "[[43679.29449683]\n",
      " [18927.29449683]\n",
      " [29575.29449683]\n",
      " ...\n",
      " [34671.29449683]\n",
      " [ 8031.29449683]\n",
      " [17303.29449683]]\n"
     ]
    }
   ],
   "source": [
    "# Now make prediction with test data.\n",
    "y_pred = LR.predict(x_test)\n",
    "print(y_pred)"
   ]
  },
  {
   "cell_type": "code",
   "execution_count": 61,
   "id": "f03f84aa",
   "metadata": {},
   "outputs": [
    {
     "name": "stdout",
     "output_type": "stream",
     "text": [
      "      model  year  price transmission  mileage fuelType  tax   mpg  \\\n",
      "0        A1  2017  12500       Manual    15735   Petrol  150  55.4   \n",
      "1        A6  2016  16500    Automatic    36203   Diesel   20  64.2   \n",
      "2        A1  2016  11000       Manual    29946   Petrol   30  55.4   \n",
      "3        A4  2017  16800    Automatic    25952   Diesel  145  67.3   \n",
      "4        A3  2019  17300       Manual     1998   Petrol  145  49.6   \n",
      "...     ...   ...    ...          ...      ...      ...  ...   ...   \n",
      "10663    A3  2020  16999       Manual     4018   Petrol  145  49.6   \n",
      "10664    A3  2020  16999       Manual     1978   Petrol  150  49.6   \n",
      "10665    A3  2020  17199       Manual      609   Petrol  150  49.6   \n",
      "10666    Q3  2017  19499    Automatic     8646   Petrol  150  47.9   \n",
      "10667    Q3  2016  15999       Manual    11855   Petrol  150  47.9   \n",
      "\n",
      "       engineSize  Predicted price  \n",
      "0             1.4     43679.294497  \n",
      "1             2.0     18927.294497  \n",
      "2             1.4     29575.294497  \n",
      "3             2.0     22047.294497  \n",
      "4             1.0     17247.294497  \n",
      "...           ...              ...  \n",
      "10663         1.0              NaN  \n",
      "10664         1.0              NaN  \n",
      "10665         1.0              NaN  \n",
      "10666         1.4              NaN  \n",
      "10667         1.4              NaN  \n",
      "\n",
      "[10668 rows x 10 columns]\n"
     ]
    }
   ],
   "source": [
    "#Here we display actual and predicted price in a single dataFrame.\n",
    "result = pd.concat([readFile,pd.DataFrame(y_pred,columns=[\"Predicted price\"])],axis=1)\n",
    "print(result)"
   ]
  },
  {
   "cell_type": "code",
   "execution_count": 62,
   "id": "f7e1cd5b",
   "metadata": {},
   "outputs": [
    {
     "name": "stdout",
     "output_type": "stream",
     "text": [
      "The accuracy of the prediction is 0.7890438427223287\n",
      "The mean error is 3247.5977591007195\n"
     ]
    }
   ],
   "source": [
    "from sklearn.metrics import r2_score , mean_absolute_error\n",
    "print(\"The accuracy of the prediction is\",r2_score(y_test,y_pred))\n",
    "print(\"The mean error is\", mean_absolute_error(y_test,y_pred))"
   ]
  },
  {
   "cell_type": "code",
   "execution_count": 63,
   "id": "d1a89d20",
   "metadata": {},
   "outputs": [],
   "source": [
    "#In Linear regression accuracy is less as compare to radnom forest."
   ]
  },
  {
   "cell_type": "code",
   "execution_count": 64,
   "id": "a0f3ebd8",
   "metadata": {},
   "outputs": [
    {
     "name": "stdout",
     "output_type": "stream",
     "text": [
      "ExtraTreesRegressor()\n"
     ]
    }
   ],
   "source": [
    "# Creating model using extra tree regressor.\n",
    "from sklearn.ensemble import ExtraTreesRegressor\n",
    "\n",
    "ETR =   ExtraTreesRegressor()\n",
    "ETR.fit(x_train,y_train)\n",
    "print(ETR)\n"
   ]
  },
  {
   "cell_type": "code",
   "execution_count": 65,
   "id": "af9609e6",
   "metadata": {},
   "outputs": [
    {
     "name": "stdout",
     "output_type": "stream",
     "text": [
      "[43090.82 16969.12 22590.55 ... 34686.43 10284.45 16753.18]\n"
     ]
    }
   ],
   "source": [
    "# Now make prediction with test data.\n",
    "y_pred = ETR.predict(x_test)\n",
    "print(y_pred)"
   ]
  },
  {
   "cell_type": "code",
   "execution_count": 66,
   "id": "dddb7be7",
   "metadata": {},
   "outputs": [
    {
     "name": "stdout",
     "output_type": "stream",
     "text": [
      "      model  year  price transmission  mileage fuelType  tax   mpg  \\\n",
      "0        A1  2017  12500       Manual    15735   Petrol  150  55.4   \n",
      "1        A6  2016  16500    Automatic    36203   Diesel   20  64.2   \n",
      "2        A1  2016  11000       Manual    29946   Petrol   30  55.4   \n",
      "3        A4  2017  16800    Automatic    25952   Diesel  145  67.3   \n",
      "4        A3  2019  17300       Manual     1998   Petrol  145  49.6   \n",
      "...     ...   ...    ...          ...      ...      ...  ...   ...   \n",
      "10663    A3  2020  16999       Manual     4018   Petrol  145  49.6   \n",
      "10664    A3  2020  16999       Manual     1978   Petrol  150  49.6   \n",
      "10665    A3  2020  17199       Manual      609   Petrol  150  49.6   \n",
      "10666    Q3  2017  19499    Automatic     8646   Petrol  150  47.9   \n",
      "10667    Q3  2016  15999       Manual    11855   Petrol  150  47.9   \n",
      "\n",
      "       engineSize  Predicted price  \n",
      "0             1.4         43090.82  \n",
      "1             2.0         16969.12  \n",
      "2             1.4         22590.55  \n",
      "3             2.0         20223.46  \n",
      "4             1.0         15890.67  \n",
      "...           ...              ...  \n",
      "10663         1.0              NaN  \n",
      "10664         1.0              NaN  \n",
      "10665         1.0              NaN  \n",
      "10666         1.4              NaN  \n",
      "10667         1.4              NaN  \n",
      "\n",
      "[10668 rows x 10 columns]\n"
     ]
    }
   ],
   "source": [
    "#Here we display actual and predicted price in a single dataFrame.\n",
    "result = pd.concat([readFile,pd.DataFrame(y_pred,columns=[\"Predicted price\"])],axis=1)\n",
    "print(result)"
   ]
  },
  {
   "cell_type": "code",
   "execution_count": 67,
   "id": "9762ea75",
   "metadata": {},
   "outputs": [
    {
     "name": "stdout",
     "output_type": "stream",
     "text": [
      "The accuracy of the prediction is 0.9589006188152022\n",
      "The mean error is 1536.688216338644\n"
     ]
    }
   ],
   "source": [
    "from sklearn.metrics import r2_score , mean_absolute_error\n",
    "print(\"The accuracy of the prediction is\",r2_score(y_test,y_pred))\n",
    "print(\"The mean error is\", mean_absolute_error(y_test,y_pred))"
   ]
  },
  {
   "cell_type": "code",
   "execution_count": 68,
   "id": "eebd86be",
   "metadata": {},
   "outputs": [],
   "source": [
    "#here accuracy is good.\n"
   ]
  },
  {
   "cell_type": "code",
   "execution_count": 69,
   "id": "555ba449",
   "metadata": {},
   "outputs": [],
   "source": [
    "#Randomized Search CV.\n",
    "from sklearn.model_selection import RandomizedSearchCV\n",
    "n_estimators = [int(x) for x in np.linspace(start = 80, stop = 1500, num = 10)]\n",
    "max_features = ['auto', 'sqrt']\n",
    "max_depth = [int(x) for x in np.linspace(6, 45, num = 5)]\n",
    "min_samples_split = [2, 5, 10, 15, 100]\n",
    "min_samples_leaf = [1, 2, 5, 10]\n",
    "\n"
   ]
  },
  {
   "cell_type": "code",
   "execution_count": 70,
   "id": "094a0e3c",
   "metadata": {},
   "outputs": [],
   "source": [
    "rand_grid={'n_estimators': n_estimators,\n",
    "               'max_features': max_features,\n",
    "               'max_depth': max_depth,\n",
    "               'min_samples_split': min_samples_split,\n",
    "               'min_samples_leaf': min_samples_leaf\n",
    "          }\n",
    "\n"
   ]
  },
  {
   "cell_type": "code",
   "execution_count": 71,
   "id": "1347d0af",
   "metadata": {},
   "outputs": [],
   "source": [
    "rf=RandomForestRegressor()\n",
    "\n",
    "rCV=RandomizedSearchCV(estimator=rf,param_distributions=rand_grid,scoring='neg_mean_squared_error',n_iter=3,cv=3,random_state=42, n_jobs = 1)\n"
   ]
  },
  {
   "cell_type": "code",
   "execution_count": null,
   "id": "e6bb6947",
   "metadata": {},
   "outputs": [],
   "source": [
    "display (rCV.fit(x_train,y_train))\n"
   ]
  },
  {
   "cell_type": "code",
   "execution_count": null,
   "id": "4e5fe5d5",
   "metadata": {},
   "outputs": [],
   "source": [
    "rf_pred=rCV.predict(x_test)\n",
    "display (rf_pred)\n"
   ]
  },
  {
   "cell_type": "code",
   "execution_count": null,
   "id": "7c6486bf",
   "metadata": {},
   "outputs": [],
   "source": [
    "from sklearn.metrics import mean_absolute_error,mean_squared_error\n",
    "print('MAE',mean_absolute_error(y_test,rf_pred))\n",
    "print('MSE',mean_squared_error(y_test,rf_pred))\n",
    "\n"
   ]
  },
  {
   "cell_type": "code",
   "execution_count": null,
   "id": "e272ef89",
   "metadata": {},
   "outputs": [],
   "source": [
    "display (r2_score(Y_test,rf_pred))\n"
   ]
  },
  {
   "cell_type": "code",
   "execution_count": null,
   "id": "b6832e25",
   "metadata": {},
   "outputs": [],
   "source": [
    "from catboost import CatBoostRegressor\n",
    "CBR =   ExtraTreesRegressor()\n",
    "CBR.fit(x_train,y_train)\n",
    "print(CBR)"
   ]
  },
  {
   "cell_type": "code",
   "execution_count": null,
   "id": "79d598ea",
   "metadata": {},
   "outputs": [],
   "source": [
    "# Now make prediction with test data.\n",
    "y_pred = CBR.predict(x_test)\n",
    "print(y_pred)"
   ]
  },
  {
   "cell_type": "code",
   "execution_count": null,
   "id": "9c27ee1e",
   "metadata": {},
   "outputs": [],
   "source": [
    "#Here we display actual and predicted price in a single dataFrame.\n",
    "result = pd.concat([readFile,pd.DataFrame(y_pred,columns=[\"Predicted price\"])],axis=1)\n",
    "print(result)"
   ]
  },
  {
   "cell_type": "code",
   "execution_count": null,
   "id": "3040a32c",
   "metadata": {},
   "outputs": [],
   "source": [
    "from sklearn.metrics import r2_score , mean_absolute_error\n",
    "print(\"The accuracy of the prediction is\",r2_score(y_test,y_pred))\n",
    "print(\"The mean error is\", mean_absolute_error(y_test,y_pred))"
   ]
  },
  {
   "cell_type": "code",
   "execution_count": null,
   "id": "bdd31e22",
   "metadata": {},
   "outputs": [],
   "source": []
  }
 ],
 "metadata": {
  "kernelspec": {
   "display_name": "Python 3 (ipykernel)",
   "language": "python",
   "name": "python3"
  },
  "language_info": {
   "codemirror_mode": {
    "name": "ipython",
    "version": 3
   },
   "file_extension": ".py",
   "mimetype": "text/x-python",
   "name": "python",
   "nbconvert_exporter": "python",
   "pygments_lexer": "ipython3",
   "version": "3.11.5"
  }
 },
 "nbformat": 4,
 "nbformat_minor": 5
}
